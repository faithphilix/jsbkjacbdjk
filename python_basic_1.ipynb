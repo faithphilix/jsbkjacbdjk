{
  "nbformat": 4,
  "nbformat_minor": 0,
  "metadata": {
    "kernelspec": {
      "display_name": "Python 3",
      "language": "python",
      "name": "python3"
    },
    "language_info": {
      "codemirror_mode": {
        "name": "ipython",
        "version": 3
      },
      "file_extension": ".py",
      "mimetype": "text/x-python",
      "name": "python",
      "nbconvert_exporter": "python",
      "pygments_lexer": "ipython3",
      "version": "3.8.5"
    },
    "colab": {
      "name": "python basic 1.ipynb",
      "provenance": [],
      "include_colab_link": true
    }
  },
  "cells": [
    {
      "cell_type": "markdown",
      "metadata": {
        "id": "view-in-github",
        "colab_type": "text"
      },
      "source": [
        "<a href=\"https://colab.research.google.com/github/faithphilix/jsbkjacbdjk/blob/main/python_basic_1.ipynb\" target=\"_parent\"><img src=\"https://colab.research.google.com/assets/colab-badge.svg\" alt=\"Open In Colab\"/></a>"
      ]
    },
    {
      "cell_type": "code",
      "metadata": {
        "id": "xjJ9l2YOvPMx"
      },
      "source": [
        "a= 10 "
      ],
      "execution_count": null,
      "outputs": []
    },
    {
      "cell_type": "code",
      "metadata": {
        "id": "f-RHYJ52vPM2",
        "outputId": "08e552ea-b61c-4466-c6ef-34c01bb73a87"
      },
      "source": [
        "a"
      ],
      "execution_count": null,
      "outputs": [
        {
          "data": {
            "text/plain": [
              "10"
            ]
          },
          "execution_count": 2,
          "metadata": {},
          "output_type": "execute_result"
        }
      ]
    },
    {
      "cell_type": "code",
      "metadata": {
        "id": "U-D88aqQvPM4"
      },
      "source": [
        "a = 20 "
      ],
      "execution_count": null,
      "outputs": []
    },
    {
      "cell_type": "code",
      "metadata": {
        "id": "zZc5Tqx4vPM4",
        "outputId": "44a66c71-1a17-4835-b845-b6688fdda7b1"
      },
      "source": [
        "a"
      ],
      "execution_count": null,
      "outputs": [
        {
          "data": {
            "text/plain": [
              "20"
            ]
          },
          "execution_count": 4,
          "metadata": {},
          "output_type": "execute_result"
        }
      ]
    },
    {
      "cell_type": "code",
      "metadata": {
        "id": "51bnvUJpvPM5",
        "outputId": "cd17a723-d0a7-4a4f-8991-b1c87e1b06f9"
      },
      "source": [
        "type(a)"
      ],
      "execution_count": null,
      "outputs": [
        {
          "data": {
            "text/plain": [
              "int"
            ]
          },
          "execution_count": 5,
          "metadata": {},
          "output_type": "execute_result"
        }
      ]
    },
    {
      "cell_type": "code",
      "metadata": {
        "id": "hnedyesZvPM6"
      },
      "source": [
        "b = \"sudh\""
      ],
      "execution_count": null,
      "outputs": []
    },
    {
      "cell_type": "code",
      "metadata": {
        "id": "n7XnSr5SvPM6",
        "outputId": "83aa91bf-cb34-45c4-fe76-4058c9c727f7"
      },
      "source": [
        "type(b)"
      ],
      "execution_count": null,
      "outputs": [
        {
          "data": {
            "text/plain": [
              "str"
            ]
          },
          "execution_count": 7,
          "metadata": {},
          "output_type": "execute_result"
        }
      ]
    },
    {
      "cell_type": "code",
      "metadata": {
        "id": "UAWhydPjvPM7"
      },
      "source": [
        "c = 'sudh'"
      ],
      "execution_count": null,
      "outputs": []
    },
    {
      "cell_type": "code",
      "metadata": {
        "id": "cgfI9tqhvPM8",
        "outputId": "a29fe3de-27f0-46d2-c201-87910207852e"
      },
      "source": [
        "c"
      ],
      "execution_count": null,
      "outputs": [
        {
          "data": {
            "text/plain": [
              "'sudh'"
            ]
          },
          "execution_count": 9,
          "metadata": {},
          "output_type": "execute_result"
        }
      ]
    },
    {
      "cell_type": "code",
      "metadata": {
        "id": "eL-9ob29vPM9",
        "outputId": "4e94d985-c452-4839-eca3-da0faa8f90de"
      },
      "source": [
        "b"
      ],
      "execution_count": null,
      "outputs": [
        {
          "data": {
            "text/plain": [
              "'sudh'"
            ]
          },
          "execution_count": 10,
          "metadata": {},
          "output_type": "execute_result"
        }
      ]
    },
    {
      "cell_type": "code",
      "metadata": {
        "id": "_tksTFdtvPM-",
        "outputId": "e45df26b-5632-47aa-eca9-af3f970610a5"
      },
      "source": [
        "type(c)"
      ],
      "execution_count": null,
      "outputs": [
        {
          "data": {
            "text/plain": [
              "str"
            ]
          },
          "execution_count": 11,
          "metadata": {},
          "output_type": "execute_result"
        }
      ]
    },
    {
      "cell_type": "code",
      "metadata": {
        "id": "FPj-0G-ivPM-",
        "outputId": "e7b7c677-e0c0-4e90-e2f0-64e1799d9fbf"
      },
      "source": [
        "a = 10 \n",
        "b = 20\n",
        "a+b"
      ],
      "execution_count": null,
      "outputs": [
        {
          "data": {
            "text/plain": [
              "30"
            ]
          },
          "execution_count": 12,
          "metadata": {},
          "output_type": "execute_result"
        }
      ]
    },
    {
      "cell_type": "code",
      "metadata": {
        "id": "iR3DNnIuvPM_",
        "outputId": "1c3e24cf-8d73-46ef-f38e-da0f132edfd9"
      },
      "source": [
        "a*b"
      ],
      "execution_count": null,
      "outputs": [
        {
          "data": {
            "text/plain": [
              "200"
            ]
          },
          "execution_count": 13,
          "metadata": {},
          "output_type": "execute_result"
        }
      ]
    },
    {
      "cell_type": "code",
      "metadata": {
        "id": "tcdFaR62vPNA"
      },
      "source": [
        "f = 45.67"
      ],
      "execution_count": null,
      "outputs": []
    },
    {
      "cell_type": "code",
      "metadata": {
        "id": "SoO4WDsavPNA",
        "outputId": "83538bbe-2c36-490f-d56a-d8110417e3cb"
      },
      "source": [
        "type(f)"
      ],
      "execution_count": null,
      "outputs": [
        {
          "data": {
            "text/plain": [
              "float"
            ]
          },
          "execution_count": 15,
          "metadata": {},
          "output_type": "execute_result"
        }
      ]
    },
    {
      "cell_type": "code",
      "metadata": {
        "id": "cO8hw7QavPNB"
      },
      "source": [
        "c = 7+8j"
      ],
      "execution_count": null,
      "outputs": []
    },
    {
      "cell_type": "code",
      "metadata": {
        "id": "PIxqOd_RvPNB",
        "outputId": "72ee1050-8583-43a6-adc8-321864505d25"
      },
      "source": [
        "type(c)"
      ],
      "execution_count": null,
      "outputs": [
        {
          "data": {
            "text/plain": [
              "complex"
            ]
          },
          "execution_count": 23,
          "metadata": {},
          "output_type": "execute_result"
        }
      ]
    },
    {
      "cell_type": "code",
      "metadata": {
        "id": "QOqsSP7GvPNC",
        "outputId": "251b63c8-873f-4980-9789-1efb967c0463"
      },
      "source": [
        "c"
      ],
      "execution_count": null,
      "outputs": [
        {
          "data": {
            "text/plain": [
              "(7+8j)"
            ]
          },
          "execution_count": 24,
          "metadata": {},
          "output_type": "execute_result"
        }
      ]
    },
    {
      "cell_type": "code",
      "metadata": {
        "id": "33OOnBP1vPNC",
        "outputId": "db6e9d6f-42f4-47d0-c948-e0cf42950e84"
      },
      "source": [
        "c.real"
      ],
      "execution_count": null,
      "outputs": [
        {
          "data": {
            "text/plain": [
              "7.0"
            ]
          },
          "execution_count": 25,
          "metadata": {},
          "output_type": "execute_result"
        }
      ]
    },
    {
      "cell_type": "code",
      "metadata": {
        "id": "OtBJc7RvvPNC",
        "outputId": "709ca542-22ef-4802-b473-ac116cffae29"
      },
      "source": [
        "c.imag"
      ],
      "execution_count": null,
      "outputs": [
        {
          "data": {
            "text/plain": [
              "8.0"
            ]
          },
          "execution_count": 26,
          "metadata": {},
          "output_type": "execute_result"
        }
      ]
    },
    {
      "cell_type": "code",
      "metadata": {
        "id": "kHNvg0_9vPNE"
      },
      "source": [
        "s = \"sudh\""
      ],
      "execution_count": null,
      "outputs": []
    },
    {
      "cell_type": "code",
      "metadata": {
        "id": "nlsq37UWvPNE",
        "outputId": "270687cf-ac2a-4427-b127-e6fffa784ca4"
      },
      "source": [
        "1 +1 "
      ],
      "execution_count": null,
      "outputs": [
        {
          "data": {
            "text/plain": [
              "2"
            ]
          },
          "execution_count": 29,
          "metadata": {},
          "output_type": "execute_result"
        }
      ]
    },
    {
      "cell_type": "code",
      "metadata": {
        "id": "PoreX0RqvPNE",
        "outputId": "1138d48f-6c87-4871-de1e-10d0f7f00fa8"
      },
      "source": [
        "1+ \"sudh\""
      ],
      "execution_count": null,
      "outputs": [
        {
          "ename": "TypeError",
          "evalue": "unsupported operand type(s) for +: 'int' and 'str'",
          "output_type": "error",
          "traceback": [
            "\u001b[1;31m---------------------------------------------------------------------------\u001b[0m",
            "\u001b[1;31mTypeError\u001b[0m                                 Traceback (most recent call last)",
            "\u001b[1;32m<ipython-input-30-3ad846cd06b5>\u001b[0m in \u001b[0;36m<module>\u001b[1;34m\u001b[0m\n\u001b[1;32m----> 1\u001b[1;33m \u001b[1;36m1\u001b[0m\u001b[1;33m+\u001b[0m \u001b[1;34m\"sudh\"\u001b[0m\u001b[1;33m\u001b[0m\u001b[1;33m\u001b[0m\u001b[0m\n\u001b[0m",
            "\u001b[1;31mTypeError\u001b[0m: unsupported operand type(s) for +: 'int' and 'str'"
          ]
        }
      ]
    },
    {
      "cell_type": "code",
      "metadata": {
        "id": "LN2KSV03vPNF",
        "outputId": "113b4ad7-ae61-4100-c82c-6e6f1c271ef8"
      },
      "source": [
        "\"1\" + \"sudh\""
      ],
      "execution_count": null,
      "outputs": [
        {
          "data": {
            "text/plain": [
              "'1sudh'"
            ]
          },
          "execution_count": 31,
          "metadata": {},
          "output_type": "execute_result"
        }
      ]
    },
    {
      "cell_type": "code",
      "metadata": {
        "id": "iDdyjRrTvPNF",
        "outputId": "5e8b41dd-2437-4d21-aa1a-5021d9155893"
      },
      "source": [
        "str(1)+\"sudh\""
      ],
      "execution_count": null,
      "outputs": [
        {
          "data": {
            "text/plain": [
              "'1sudh'"
            ]
          },
          "execution_count": 32,
          "metadata": {},
          "output_type": "execute_result"
        }
      ]
    },
    {
      "cell_type": "code",
      "metadata": {
        "id": "AwlEY4n9vPNF"
      },
      "source": [
        "s = \"sudh kumar\""
      ],
      "execution_count": null,
      "outputs": []
    },
    {
      "cell_type": "code",
      "metadata": {
        "id": "nx0fbT2uvPNG",
        "outputId": "c5abc7df-17fa-44ca-f8a8-c14b50b52d9e"
      },
      "source": [
        "s"
      ],
      "execution_count": null,
      "outputs": [
        {
          "data": {
            "text/plain": [
              "'sudh kumar'"
            ]
          },
          "execution_count": 34,
          "metadata": {},
          "output_type": "execute_result"
        }
      ]
    },
    {
      "cell_type": "code",
      "metadata": {
        "id": "KBQ0ZWfgvPNG",
        "outputId": "0687993d-57a0-4cbe-b560-7ad32b6744f5"
      },
      "source": [
        "s[0]"
      ],
      "execution_count": null,
      "outputs": [
        {
          "data": {
            "text/plain": [
              "'s'"
            ]
          },
          "execution_count": 35,
          "metadata": {},
          "output_type": "execute_result"
        }
      ]
    },
    {
      "cell_type": "code",
      "metadata": {
        "id": "2_pjOBS7vPNG",
        "outputId": "e034422d-9f6d-4a39-a1da-dc376bafb542"
      },
      "source": [
        "s[8]"
      ],
      "execution_count": null,
      "outputs": [
        {
          "data": {
            "text/plain": [
              "'a'"
            ]
          },
          "execution_count": 36,
          "metadata": {},
          "output_type": "execute_result"
        }
      ]
    },
    {
      "cell_type": "code",
      "metadata": {
        "id": "UqCxaKFdvPNH",
        "outputId": "ab147676-dd3e-47ac-8c3e-f68c16187221"
      },
      "source": [
        "s[90]"
      ],
      "execution_count": null,
      "outputs": [
        {
          "ename": "IndexError",
          "evalue": "string index out of range",
          "output_type": "error",
          "traceback": [
            "\u001b[1;31m---------------------------------------------------------------------------\u001b[0m",
            "\u001b[1;31mIndexError\u001b[0m                                Traceback (most recent call last)",
            "\u001b[1;32m<ipython-input-37-deb1ec67c953>\u001b[0m in \u001b[0;36m<module>\u001b[1;34m\u001b[0m\n\u001b[1;32m----> 1\u001b[1;33m \u001b[0ms\u001b[0m\u001b[1;33m[\u001b[0m\u001b[1;36m90\u001b[0m\u001b[1;33m]\u001b[0m\u001b[1;33m\u001b[0m\u001b[1;33m\u001b[0m\u001b[0m\n\u001b[0m",
            "\u001b[1;31mIndexError\u001b[0m: string index out of range"
          ]
        }
      ]
    },
    {
      "cell_type": "code",
      "metadata": {
        "id": "oXkUGkLIvPNH",
        "outputId": "71700b83-7dc0-4706-94fa-18f1060d8fe5"
      },
      "source": [
        "s[-2]"
      ],
      "execution_count": null,
      "outputs": [
        {
          "data": {
            "text/plain": [
              "'a'"
            ]
          },
          "execution_count": 38,
          "metadata": {},
          "output_type": "execute_result"
        }
      ]
    },
    {
      "cell_type": "code",
      "metadata": {
        "id": "L-SBMZL0vPNH",
        "outputId": "152ce75a-1f53-4db4-8397-25abc44cc0b2"
      },
      "source": [
        "s[0:4]"
      ],
      "execution_count": null,
      "outputs": [
        {
          "data": {
            "text/plain": [
              "'sudh'"
            ]
          },
          "execution_count": 39,
          "metadata": {},
          "output_type": "execute_result"
        }
      ]
    },
    {
      "cell_type": "code",
      "metadata": {
        "id": "quyIgzgpvPNI",
        "outputId": "0d47e296-02ee-44dd-a7d8-c14852433d7a"
      },
      "source": [
        "s[5:90]"
      ],
      "execution_count": null,
      "outputs": [
        {
          "data": {
            "text/plain": [
              "'kumar'"
            ]
          },
          "execution_count": 40,
          "metadata": {},
          "output_type": "execute_result"
        }
      ]
    },
    {
      "cell_type": "code",
      "metadata": {
        "id": "1YoqVQBbvPNI",
        "outputId": "828c27de-b1e9-4534-d661-47b36731561b"
      },
      "source": [
        "s[0:10:2]"
      ],
      "execution_count": null,
      "outputs": [
        {
          "data": {
            "text/plain": [
              "'sd ua'"
            ]
          },
          "execution_count": 41,
          "metadata": {},
          "output_type": "execute_result"
        }
      ]
    },
    {
      "cell_type": "code",
      "metadata": {
        "id": "wM_6cr-7vPNI",
        "outputId": "113493cd-2bad-460a-fa06-94373cb5ab37"
      },
      "source": [
        "s[::2]"
      ],
      "execution_count": null,
      "outputs": [
        {
          "data": {
            "text/plain": [
              "'sd ua'"
            ]
          },
          "execution_count": 42,
          "metadata": {},
          "output_type": "execute_result"
        }
      ]
    },
    {
      "cell_type": "code",
      "metadata": {
        "id": "bxKzv_wFvPNJ",
        "outputId": "02d16366-6812-440e-ce5a-00a5452cd5d9"
      },
      "source": [
        "s[::3]"
      ],
      "execution_count": null,
      "outputs": [
        {
          "data": {
            "text/plain": [
              "'shur'"
            ]
          },
          "execution_count": 43,
          "metadata": {},
          "output_type": "execute_result"
        }
      ]
    },
    {
      "cell_type": "code",
      "metadata": {
        "id": "B5-SP4kqvPNJ",
        "outputId": "87657412-b0c2-447f-f1a6-3c290681715f"
      },
      "source": [
        "s[0::2]"
      ],
      "execution_count": null,
      "outputs": [
        {
          "data": {
            "text/plain": [
              "'sd ua'"
            ]
          },
          "execution_count": 44,
          "metadata": {},
          "output_type": "execute_result"
        }
      ]
    },
    {
      "cell_type": "code",
      "metadata": {
        "id": "wpFgg7gBvPNJ",
        "outputId": "33170d51-3419-4d09-8abc-da727e8b5929"
      },
      "source": [
        "s[0::-1]"
      ],
      "execution_count": null,
      "outputs": [
        {
          "data": {
            "text/plain": [
              "'s'"
            ]
          },
          "execution_count": 45,
          "metadata": {},
          "output_type": "execute_result"
        }
      ]
    },
    {
      "cell_type": "code",
      "metadata": {
        "id": "VetT10cAvPNJ",
        "outputId": "9efcb8e7-468e-4e19-eb2c-06dbafbb1778"
      },
      "source": [
        "s[::-1]"
      ],
      "execution_count": null,
      "outputs": [
        {
          "data": {
            "text/plain": [
              "'ramuk hdus'"
            ]
          },
          "execution_count": 46,
          "metadata": {},
          "output_type": "execute_result"
        }
      ]
    },
    {
      "cell_type": "code",
      "metadata": {
        "id": "vjqAEO1BvPNK",
        "outputId": "0739c36d-ff7a-4056-ab32-0a6fb739f356"
      },
      "source": [
        "s[0:5:-1]"
      ],
      "execution_count": null,
      "outputs": [
        {
          "data": {
            "text/plain": [
              "''"
            ]
          },
          "execution_count": 47,
          "metadata": {},
          "output_type": "execute_result"
        }
      ]
    },
    {
      "cell_type": "code",
      "metadata": {
        "id": "2YW-PvBfvPNK",
        "outputId": "abfb6780-8b61-45bf-95d7-a4af472b09ff"
      },
      "source": [
        "s[0:10:-1]"
      ],
      "execution_count": null,
      "outputs": [
        {
          "data": {
            "text/plain": [
              "''"
            ]
          },
          "execution_count": 48,
          "metadata": {},
          "output_type": "execute_result"
        }
      ]
    },
    {
      "cell_type": "code",
      "metadata": {
        "id": "kX48htU-vPNK",
        "outputId": "9d8028c0-81ed-494e-9568-ad720c8c70d4"
      },
      "source": [
        "s[5:1:1]"
      ],
      "execution_count": null,
      "outputs": [
        {
          "data": {
            "text/plain": [
              "''"
            ]
          },
          "execution_count": 49,
          "metadata": {},
          "output_type": "execute_result"
        }
      ]
    },
    {
      "cell_type": "code",
      "metadata": {
        "id": "BgbZzhmPvPNK",
        "outputId": "c40e231a-0b34-4d82-e8fa-59b90d3a2228"
      },
      "source": [
        "s[5:1:-1]"
      ],
      "execution_count": null,
      "outputs": [
        {
          "data": {
            "text/plain": [
              "'k hd'"
            ]
          },
          "execution_count": 50,
          "metadata": {},
          "output_type": "execute_result"
        }
      ]
    },
    {
      "cell_type": "code",
      "metadata": {
        "id": "TbfBJk1OvPNL",
        "outputId": "b9b5eaea-f127-4ba3-c5b7-3e77145262d3"
      },
      "source": [
        "s[::-1]"
      ],
      "execution_count": null,
      "outputs": [
        {
          "data": {
            "text/plain": [
              "'ramuk hdus'"
            ]
          },
          "execution_count": 51,
          "metadata": {},
          "output_type": "execute_result"
        }
      ]
    },
    {
      "cell_type": "code",
      "metadata": {
        "id": "_cSOLTD6vPNL",
        "outputId": "803fcb05-080d-4f3a-c2be-b29fb9aa4260"
      },
      "source": [
        "s"
      ],
      "execution_count": null,
      "outputs": [
        {
          "data": {
            "text/plain": [
              "'sudh kumar'"
            ]
          },
          "execution_count": 52,
          "metadata": {},
          "output_type": "execute_result"
        }
      ]
    },
    {
      "cell_type": "code",
      "metadata": {
        "id": "jkRDWXEGvPNM",
        "outputId": "78f28fa9-96ba-4c6c-f35b-edd95d38d6b7"
      },
      "source": [
        "s[5:1:-1]"
      ],
      "execution_count": null,
      "outputs": [
        {
          "data": {
            "text/plain": [
              "'k hd'"
            ]
          },
          "execution_count": 53,
          "metadata": {},
          "output_type": "execute_result"
        }
      ]
    },
    {
      "cell_type": "code",
      "metadata": {
        "id": "iSjc3t11vPNM",
        "outputId": "0f3e46a7-e7d0-4c02-847a-e4a215e95cab"
      },
      "source": [
        "s[5:-1:-1]"
      ],
      "execution_count": null,
      "outputs": [
        {
          "data": {
            "text/plain": [
              "''"
            ]
          },
          "execution_count": 54,
          "metadata": {},
          "output_type": "execute_result"
        }
      ]
    },
    {
      "cell_type": "code",
      "metadata": {
        "id": "TbzNztYdvPNM"
      },
      "source": [
        "s= \"dsfsafsafdsafdsa fdsa dsafdsa dsfdsa fsadfsa fdsafd safdsaf sadfsaf sadsaf safdsa safdsf dsfd safdsaf safdsaf sdf safsad\""
      ],
      "execution_count": null,
      "outputs": []
    },
    {
      "cell_type": "code",
      "metadata": {
        "id": "QFxAiwW_vPNN",
        "outputId": "0538aa24-70d8-4108-c485-e33a8e449ffb"
      },
      "source": [
        "s"
      ],
      "execution_count": null,
      "outputs": [
        {
          "data": {
            "text/plain": [
              "'dsfsafsafdsafdsa fdsa dsafdsa dsfdsa fsadfsa fdsafd safdsaf sadfsaf sadsaf safdsa safdsf dsfd safdsaf safdsaf sdf safsad'"
            ]
          },
          "execution_count": 56,
          "metadata": {},
          "output_type": "execute_result"
        }
      ]
    },
    {
      "cell_type": "code",
      "metadata": {
        "id": "vWKNt_MQvPNN",
        "outputId": "2135ccef-ebb8-4cf2-9db7-7d447ab73009"
      },
      "source": [
        "len(s)"
      ],
      "execution_count": null,
      "outputs": [
        {
          "data": {
            "text/plain": [
              "120"
            ]
          },
          "execution_count": 57,
          "metadata": {},
          "output_type": "execute_result"
        }
      ]
    },
    {
      "cell_type": "code",
      "metadata": {
        "id": "H-fXIRLavPNN",
        "outputId": "de693779-a90a-4506-a7ee-e482774d72a2"
      },
      "source": [
        "1 + 1 "
      ],
      "execution_count": null,
      "outputs": [
        {
          "data": {
            "text/plain": [
              "2"
            ]
          },
          "execution_count": 58,
          "metadata": {},
          "output_type": "execute_result"
        }
      ]
    },
    {
      "cell_type": "code",
      "metadata": {
        "id": "-OA5tD-CvPNN",
        "outputId": "f0fd6ba3-c8bf-49ad-db53-78fd800e14f5"
      },
      "source": [
        "\"sudh\" + \" sudh \""
      ],
      "execution_count": null,
      "outputs": [
        {
          "data": {
            "text/plain": [
              "'sudh sudh '"
            ]
          },
          "execution_count": 59,
          "metadata": {},
          "output_type": "execute_result"
        }
      ]
    },
    {
      "cell_type": "code",
      "metadata": {
        "id": "eOw2myryvPNO",
        "outputId": "43ddfd82-c50f-4277-ad33-c6ccf913d153"
      },
      "source": [
        "3* 10"
      ],
      "execution_count": null,
      "outputs": [
        {
          "data": {
            "text/plain": [
              "30"
            ]
          },
          "execution_count": 60,
          "metadata": {},
          "output_type": "execute_result"
        }
      ]
    },
    {
      "cell_type": "code",
      "metadata": {
        "id": "WM64r6uPvPNO",
        "outputId": "bd6c7779-fc67-4d62-fbf9-ceda33c418ab"
      },
      "source": [
        "\"sudh \" * 10 "
      ],
      "execution_count": null,
      "outputs": [
        {
          "data": {
            "text/plain": [
              "'sudh sudh sudh sudh sudh sudh sudh sudh sudh sudh '"
            ]
          },
          "execution_count": 61,
          "metadata": {},
          "output_type": "execute_result"
        }
      ]
    },
    {
      "cell_type": "code",
      "metadata": {
        "id": "i9x78FnVvPNO",
        "outputId": "0cc3d4e2-cb1c-4e99-b44f-24b013769226"
      },
      "source": [
        "4/6"
      ],
      "execution_count": null,
      "outputs": [
        {
          "data": {
            "text/plain": [
              "0.6666666666666666"
            ]
          },
          "execution_count": 62,
          "metadata": {},
          "output_type": "execute_result"
        }
      ]
    },
    {
      "cell_type": "code",
      "metadata": {
        "id": "c0fTuuUuvPNP",
        "outputId": "6e5f654d-0df2-4b14-999e-95b340fb509f"
      },
      "source": [
        "\"sudh\" / 6 "
      ],
      "execution_count": null,
      "outputs": [
        {
          "ename": "TypeError",
          "evalue": "unsupported operand type(s) for /: 'str' and 'int'",
          "output_type": "error",
          "traceback": [
            "\u001b[1;31m---------------------------------------------------------------------------\u001b[0m",
            "\u001b[1;31mTypeError\u001b[0m                                 Traceback (most recent call last)",
            "\u001b[1;32m<ipython-input-63-186e835ad8a9>\u001b[0m in \u001b[0;36m<module>\u001b[1;34m\u001b[0m\n\u001b[1;32m----> 1\u001b[1;33m \u001b[1;34m\"sudh\"\u001b[0m \u001b[1;33m/\u001b[0m \u001b[1;36m6\u001b[0m\u001b[1;33m\u001b[0m\u001b[1;33m\u001b[0m\u001b[0m\n\u001b[0m",
            "\u001b[1;31mTypeError\u001b[0m: unsupported operand type(s) for /: 'str' and 'int'"
          ]
        }
      ]
    },
    {
      "cell_type": "code",
      "metadata": {
        "id": "Np6MBMB-vPNP"
      },
      "source": [
        "b= True"
      ],
      "execution_count": null,
      "outputs": []
    },
    {
      "cell_type": "code",
      "metadata": {
        "id": "XobDO1KGvPNP",
        "outputId": "3cb3c1e7-5845-49d8-a4d0-d32b40acd99e"
      },
      "source": [
        "type(b)"
      ],
      "execution_count": null,
      "outputs": [
        {
          "data": {
            "text/plain": [
              "bool"
            ]
          },
          "execution_count": 65,
          "metadata": {},
          "output_type": "execute_result"
        }
      ]
    },
    {
      "cell_type": "code",
      "metadata": {
        "id": "xWP9S2nHvPNP"
      },
      "source": [
        "v = False "
      ],
      "execution_count": null,
      "outputs": []
    },
    {
      "cell_type": "code",
      "metadata": {
        "id": "a_-jy-p6vPNQ",
        "outputId": "02fddc97-77eb-44ed-e83a-4e5b0239e5f0"
      },
      "source": [
        "type(v)"
      ],
      "execution_count": null,
      "outputs": [
        {
          "data": {
            "text/plain": [
              "bool"
            ]
          },
          "execution_count": 67,
          "metadata": {},
          "output_type": "execute_result"
        }
      ]
    },
    {
      "cell_type": "code",
      "metadata": {
        "id": "ZhykL0REvPNQ",
        "outputId": "21658d78-7b21-48ba-8a17-fb4ff8032f73"
      },
      "source": [
        "True - True"
      ],
      "execution_count": null,
      "outputs": [
        {
          "data": {
            "text/plain": [
              "0"
            ]
          },
          "execution_count": 68,
          "metadata": {},
          "output_type": "execute_result"
        }
      ]
    },
    {
      "cell_type": "code",
      "metadata": {
        "id": "RyWqFIcfvPNQ",
        "outputId": "d266da10-c84d-4bc3-875d-139a05de50cb"
      },
      "source": [
        "True - False "
      ],
      "execution_count": null,
      "outputs": [
        {
          "data": {
            "text/plain": [
              "1"
            ]
          },
          "execution_count": 69,
          "metadata": {},
          "output_type": "execute_result"
        }
      ]
    },
    {
      "cell_type": "code",
      "metadata": {
        "id": "Vg2EgrMwvPNR",
        "outputId": "8f75e3a1-dcca-4ab7-df3d-d90e47743f29"
      },
      "source": [
        "True * True"
      ],
      "execution_count": null,
      "outputs": [
        {
          "data": {
            "text/plain": [
              "1"
            ]
          },
          "execution_count": 70,
          "metadata": {},
          "output_type": "execute_result"
        }
      ]
    },
    {
      "cell_type": "code",
      "metadata": {
        "id": "T3t1sI3uvPNR",
        "outputId": "fa7bfe77-5b4a-499c-d6ff-af971666e174"
      },
      "source": [
        "True /True\n"
      ],
      "execution_count": null,
      "outputs": [
        {
          "data": {
            "text/plain": [
              "1.0"
            ]
          },
          "execution_count": 71,
          "metadata": {},
          "output_type": "execute_result"
        }
      ]
    },
    {
      "cell_type": "code",
      "metadata": {
        "id": "dVq0xKLuvPNR",
        "outputId": "f36e8117-dc4b-4163-b714-fcb7902dc123"
      },
      "source": [
        "True /False"
      ],
      "execution_count": null,
      "outputs": [
        {
          "ename": "ZeroDivisionError",
          "evalue": "division by zero",
          "output_type": "error",
          "traceback": [
            "\u001b[1;31m---------------------------------------------------------------------------\u001b[0m",
            "\u001b[1;31mZeroDivisionError\u001b[0m                         Traceback (most recent call last)",
            "\u001b[1;32m<ipython-input-72-a8b7d1284074>\u001b[0m in \u001b[0;36m<module>\u001b[1;34m\u001b[0m\n\u001b[1;32m----> 1\u001b[1;33m \u001b[1;32mTrue\u001b[0m \u001b[1;33m/\u001b[0m\u001b[1;32mFalse\u001b[0m\u001b[1;33m\u001b[0m\u001b[1;33m\u001b[0m\u001b[0m\n\u001b[0m",
            "\u001b[1;31mZeroDivisionError\u001b[0m: division by zero"
          ]
        }
      ]
    },
    {
      "cell_type": "code",
      "metadata": {
        "id": "wu9LoOlhvPNR",
        "outputId": "00a299fc-e5f8-4fc6-a3ec-17ae7790a0ac"
      },
      "source": [
        "1/0"
      ],
      "execution_count": null,
      "outputs": [
        {
          "ename": "ZeroDivisionError",
          "evalue": "division by zero",
          "output_type": "error",
          "traceback": [
            "\u001b[1;31m---------------------------------------------------------------------------\u001b[0m",
            "\u001b[1;31mZeroDivisionError\u001b[0m                         Traceback (most recent call last)",
            "\u001b[1;32m<ipython-input-73-9e1622b385b6>\u001b[0m in \u001b[0;36m<module>\u001b[1;34m\u001b[0m\n\u001b[1;32m----> 1\u001b[1;33m \u001b[1;36m1\u001b[0m\u001b[1;33m/\u001b[0m\u001b[1;36m0\u001b[0m\u001b[1;33m\u001b[0m\u001b[1;33m\u001b[0m\u001b[0m\n\u001b[0m",
            "\u001b[1;31mZeroDivisionError\u001b[0m: division by zero"
          ]
        }
      ]
    },
    {
      "cell_type": "code",
      "metadata": {
        "id": "owcqnDB9vPNS",
        "outputId": "98f8043e-779b-44b6-976f-94c38ba26a9a"
      },
      "source": [
        "import numpy as np\n",
        "\n",
        "np.asanyarray([5,1])/0"
      ],
      "execution_count": null,
      "outputs": [
        {
          "name": "stderr",
          "output_type": "stream",
          "text": [
            "<ipython-input-83-518f6ae72f03>:3: RuntimeWarning: divide by zero encountered in true_divide\n",
            "  np.asanyarray([5,1])/0\n"
          ]
        },
        {
          "data": {
            "text/plain": [
              "array([inf, inf])"
            ]
          },
          "execution_count": 83,
          "metadata": {},
          "output_type": "execute_result"
        }
      ]
    },
    {
      "cell_type": "code",
      "metadata": {
        "id": "weuFvWupvPNS"
      },
      "source": [
        "sudh = [1,2,3,4,5]"
      ],
      "execution_count": null,
      "outputs": []
    },
    {
      "cell_type": "code",
      "metadata": {
        "id": "ET0k2CPSvPNS"
      },
      "source": [
        "a = 10 "
      ],
      "execution_count": null,
      "outputs": []
    },
    {
      "cell_type": "code",
      "metadata": {
        "id": "vDEkISyTvPNS"
      },
      "source": [
        "l = [\"sudh\" ,45,54,454,5,4, 45.67,67,5+7j,\"fsdf\",\"fdsfsf\" , [1,2,3,3,4]]"
      ],
      "execution_count": null,
      "outputs": []
    },
    {
      "cell_type": "code",
      "metadata": {
        "id": "StbuP_F0vPNT",
        "outputId": "608bbc92-3f9c-4119-fe43-90acaf379876"
      },
      "source": [
        "type(l)"
      ],
      "execution_count": null,
      "outputs": [
        {
          "data": {
            "text/plain": [
              "list"
            ]
          },
          "execution_count": 90,
          "metadata": {},
          "output_type": "execute_result"
        }
      ]
    },
    {
      "cell_type": "code",
      "metadata": {
        "id": "q5lFLCAXvPNT",
        "outputId": "9087ea92-72ba-47a5-cb18-5fe69956c8d3"
      },
      "source": [
        "l[0]"
      ],
      "execution_count": null,
      "outputs": [
        {
          "data": {
            "text/plain": [
              "'sudh'"
            ]
          },
          "execution_count": 91,
          "metadata": {},
          "output_type": "execute_result"
        }
      ]
    },
    {
      "cell_type": "code",
      "metadata": {
        "id": "yNSsYB4FvPNT",
        "outputId": "6fa77117-c633-4d35-ccae-be4ebbfaf161"
      },
      "source": [
        "l[100]"
      ],
      "execution_count": null,
      "outputs": [
        {
          "ename": "IndexError",
          "evalue": "list index out of range",
          "output_type": "error",
          "traceback": [
            "\u001b[1;31m---------------------------------------------------------------------------\u001b[0m",
            "\u001b[1;31mIndexError\u001b[0m                                Traceback (most recent call last)",
            "\u001b[1;32m<ipython-input-92-e2a0c2623844>\u001b[0m in \u001b[0;36m<module>\u001b[1;34m\u001b[0m\n\u001b[1;32m----> 1\u001b[1;33m \u001b[0ml\u001b[0m\u001b[1;33m[\u001b[0m\u001b[1;36m100\u001b[0m\u001b[1;33m]\u001b[0m\u001b[1;33m\u001b[0m\u001b[1;33m\u001b[0m\u001b[0m\n\u001b[0m",
            "\u001b[1;31mIndexError\u001b[0m: list index out of range"
          ]
        }
      ]
    },
    {
      "cell_type": "code",
      "metadata": {
        "id": "c8QuiaE8vPNU",
        "outputId": "93df864e-598f-4447-943f-bb6f0cbf59e0"
      },
      "source": [
        "l[-1]"
      ],
      "execution_count": null,
      "outputs": [
        {
          "data": {
            "text/plain": [
              "[1, 2, 3, 3, 4]"
            ]
          },
          "execution_count": 93,
          "metadata": {},
          "output_type": "execute_result"
        }
      ]
    },
    {
      "cell_type": "code",
      "metadata": {
        "id": "bEXjMqZLvPNV",
        "outputId": "4955ff00-a14e-42ed-967a-7c8d3a56df79"
      },
      "source": [
        "l[0:4]"
      ],
      "execution_count": null,
      "outputs": [
        {
          "data": {
            "text/plain": [
              "['sudh', 45, 54, 454]"
            ]
          },
          "execution_count": 94,
          "metadata": {},
          "output_type": "execute_result"
        }
      ]
    },
    {
      "cell_type": "code",
      "metadata": {
        "id": "y2x1nsN6vPNY",
        "outputId": "75376812-653f-4d90-8358-c64aada949b4"
      },
      "source": [
        "l"
      ],
      "execution_count": null,
      "outputs": [
        {
          "data": {
            "text/plain": [
              "['sudh',\n",
              " 45,\n",
              " 54,\n",
              " 454,\n",
              " 5,\n",
              " 4,\n",
              " 45.67,\n",
              " 67,\n",
              " (5+7j),\n",
              " 'fsdf',\n",
              " 'fdsfsf',\n",
              " [1, 2, 3, 3, 4]]"
            ]
          },
          "execution_count": 95,
          "metadata": {},
          "output_type": "execute_result"
        }
      ]
    },
    {
      "cell_type": "code",
      "metadata": {
        "id": "sWmXiCGLvPNZ",
        "outputId": "c7080993-1a52-48c3-9ff8-a95307235bfe"
      },
      "source": [
        "l[::-1]"
      ],
      "execution_count": null,
      "outputs": [
        {
          "data": {
            "text/plain": [
              "[[1, 2, 3, 3, 4],\n",
              " 'fdsfsf',\n",
              " 'fsdf',\n",
              " (5+7j),\n",
              " 67,\n",
              " 45.67,\n",
              " 4,\n",
              " 5,\n",
              " 454,\n",
              " 54,\n",
              " 45,\n",
              " 'sudh']"
            ]
          },
          "execution_count": 96,
          "metadata": {},
          "output_type": "execute_result"
        }
      ]
    },
    {
      "cell_type": "code",
      "metadata": {
        "id": "zbrEt1kyvPNZ",
        "outputId": "5b5825cc-0a90-48c1-ad30-3ea2dcddb902"
      },
      "source": [
        "l[5:0:1]"
      ],
      "execution_count": null,
      "outputs": [
        {
          "data": {
            "text/plain": [
              "[]"
            ]
          },
          "execution_count": 97,
          "metadata": {},
          "output_type": "execute_result"
        }
      ]
    },
    {
      "cell_type": "code",
      "metadata": {
        "id": "U7KgI3gKvPNZ",
        "outputId": "868e3cca-8678-44ce-8543-eeaf9849eb1f"
      },
      "source": [
        "l[5:10 :-1]"
      ],
      "execution_count": null,
      "outputs": [
        {
          "data": {
            "text/plain": [
              "[]"
            ]
          },
          "execution_count": 98,
          "metadata": {},
          "output_type": "execute_result"
        }
      ]
    },
    {
      "cell_type": "code",
      "metadata": {
        "id": "q-4dYrnlvPNZ",
        "outputId": "ca44d88b-9f54-40ae-a7b2-534d99bb04d9"
      },
      "source": [
        "l[-2:-5:1]"
      ],
      "execution_count": null,
      "outputs": [
        {
          "data": {
            "text/plain": [
              "[]"
            ]
          },
          "execution_count": 99,
          "metadata": {},
          "output_type": "execute_result"
        }
      ]
    },
    {
      "cell_type": "code",
      "metadata": {
        "id": "5sOz6ymWvPNa",
        "outputId": "eae563f9-4527-46b8-cc33-a7dd8d3e7bb5"
      },
      "source": [
        "l[-2:-5:-1]"
      ],
      "execution_count": null,
      "outputs": [
        {
          "data": {
            "text/plain": [
              "['fdsfsf', 'fsdf', (5+7j)]"
            ]
          },
          "execution_count": 100,
          "metadata": {},
          "output_type": "execute_result"
        }
      ]
    },
    {
      "cell_type": "code",
      "metadata": {
        "id": "eihIR0lAvPNa",
        "outputId": "7129efca-7b4f-40ce-8d03-b429345829e6"
      },
      "source": [
        "l"
      ],
      "execution_count": null,
      "outputs": [
        {
          "data": {
            "text/plain": [
              "['sudh',\n",
              " 45,\n",
              " 54,\n",
              " 454,\n",
              " 5,\n",
              " 4,\n",
              " 45.67,\n",
              " 67,\n",
              " (5+7j),\n",
              " 'fsdf',\n",
              " 'fdsfsf',\n",
              " [1, 2, 3, 3, 4]]"
            ]
          },
          "execution_count": 101,
          "metadata": {},
          "output_type": "execute_result"
        }
      ]
    },
    {
      "cell_type": "code",
      "metadata": {
        "id": "IgE8x533vPNa",
        "outputId": "97071e03-beec-42bb-994a-2cb932d34db9"
      },
      "source": [
        "l[0][::-1]"
      ],
      "execution_count": null,
      "outputs": [
        {
          "data": {
            "text/plain": [
              "'hdus'"
            ]
          },
          "execution_count": 104,
          "metadata": {},
          "output_type": "execute_result"
        }
      ]
    },
    {
      "cell_type": "code",
      "metadata": {
        "id": "2tFmtTqZvPNb",
        "outputId": "8958d12b-06f5-4f1a-8fa0-5b19507de20a"
      },
      "source": [
        "l[-1][::-1]"
      ],
      "execution_count": null,
      "outputs": [
        {
          "data": {
            "text/plain": [
              "[4, 3, 3, 2, 1]"
            ]
          },
          "execution_count": 106,
          "metadata": {},
          "output_type": "execute_result"
        }
      ]
    },
    {
      "cell_type": "code",
      "metadata": {
        "id": "tcM8_qT7vPNb",
        "outputId": "c4d11267-87fb-46cd-a49c-ba1c480d387c"
      },
      "source": [
        "l[1][::-1]"
      ],
      "execution_count": null,
      "outputs": [
        {
          "ename": "TypeError",
          "evalue": "'int' object is not subscriptable",
          "output_type": "error",
          "traceback": [
            "\u001b[1;31m---------------------------------------------------------------------------\u001b[0m",
            "\u001b[1;31mTypeError\u001b[0m                                 Traceback (most recent call last)",
            "\u001b[1;32m<ipython-input-108-8e32455b79c3>\u001b[0m in \u001b[0;36m<module>\u001b[1;34m\u001b[0m\n\u001b[1;32m----> 1\u001b[1;33m \u001b[0ml\u001b[0m\u001b[1;33m[\u001b[0m\u001b[1;36m1\u001b[0m\u001b[1;33m]\u001b[0m\u001b[1;33m[\u001b[0m\u001b[1;33m:\u001b[0m\u001b[1;33m:\u001b[0m\u001b[1;33m-\u001b[0m\u001b[1;36m1\u001b[0m\u001b[1;33m]\u001b[0m\u001b[1;33m\u001b[0m\u001b[1;33m\u001b[0m\u001b[0m\n\u001b[0m",
            "\u001b[1;31mTypeError\u001b[0m: 'int' object is not subscriptable"
          ]
        }
      ]
    },
    {
      "cell_type": "code",
      "metadata": {
        "id": "B_bNGbSdvPNb"
      },
      "source": [
        "a = [1,2,3,4]"
      ],
      "execution_count": null,
      "outputs": []
    },
    {
      "cell_type": "code",
      "metadata": {
        "id": "GF5eSzcEvPNb",
        "outputId": "0819fa12-6546-4234-b5ca-eec3ee14e43e"
      },
      "source": [
        "a + list(\"sudh\")"
      ],
      "execution_count": null,
      "outputs": [
        {
          "data": {
            "text/plain": [
              "[1, 2, 3, 4, 's', 'u', 'd', 'h']"
            ]
          },
          "execution_count": 111,
          "metadata": {},
          "output_type": "execute_result"
        }
      ]
    },
    {
      "cell_type": "code",
      "metadata": {
        "id": "YSNnTcoavPNc",
        "outputId": "d403603c-2c6b-4b5e-fb3a-56025976004a"
      },
      "source": [
        "\"a\" + (\"sudh\")"
      ],
      "execution_count": null,
      "outputs": [
        {
          "data": {
            "text/plain": [
              "'asudh'"
            ]
          },
          "execution_count": 112,
          "metadata": {},
          "output_type": "execute_result"
        }
      ]
    },
    {
      "cell_type": "code",
      "metadata": {
        "id": "6lNYpQIJvPNc",
        "outputId": "908e78ea-2428-41e3-93c4-49eb60a0b158"
      },
      "source": [
        "a "
      ],
      "execution_count": null,
      "outputs": [
        {
          "data": {
            "text/plain": [
              "[1, 2, 3, 4]"
            ]
          },
          "execution_count": 113,
          "metadata": {},
          "output_type": "execute_result"
        }
      ]
    },
    {
      "cell_type": "code",
      "metadata": {
        "id": "1yEFlq9FvPNc",
        "outputId": "2c49a8d1-1319-4dea-fb36-f64e4209cdf7"
      },
      "source": [
        "a*4"
      ],
      "execution_count": null,
      "outputs": [
        {
          "data": {
            "text/plain": [
              "[1, 2, 3, 4, 1, 2, 3, 4, 1, 2, 3, 4, 1, 2, 3, 4]"
            ]
          },
          "execution_count": 114,
          "metadata": {},
          "output_type": "execute_result"
        }
      ]
    },
    {
      "cell_type": "code",
      "metadata": {
        "id": "mSLjZqu8vPNc",
        "outputId": "a71fd4e2-0f83-46a0-afb2-a3f4b8d17b2d"
      },
      "source": [
        "list(range(10))"
      ],
      "execution_count": null,
      "outputs": [
        {
          "data": {
            "text/plain": [
              "[0, 1, 2, 3, 4, 5, 6, 7, 8, 9]"
            ]
          },
          "execution_count": 116,
          "metadata": {},
          "output_type": "execute_result"
        }
      ]
    },
    {
      "cell_type": "code",
      "metadata": {
        "id": "6rCy2iHMvPNd",
        "outputId": "8bc46571-f8ce-4450-86cc-b1f208c80cfc"
      },
      "source": [
        "list(range(4, 20))"
      ],
      "execution_count": null,
      "outputs": [
        {
          "data": {
            "text/plain": [
              "[4, 5, 6, 7, 8, 9, 10, 11, 12, 13, 14, 15, 16, 17, 18, 19]"
            ]
          },
          "execution_count": 117,
          "metadata": {},
          "output_type": "execute_result"
        }
      ]
    },
    {
      "cell_type": "code",
      "metadata": {
        "id": "aS-4x8BQvPNd",
        "outputId": "09ca9b16-202b-429e-cfbc-c1c449ab564c"
      },
      "source": [
        "list(range(4 , 20 , 2))"
      ],
      "execution_count": null,
      "outputs": [
        {
          "data": {
            "text/plain": [
              "[4, 6, 8, 10, 12, 14, 16, 18]"
            ]
          },
          "execution_count": 118,
          "metadata": {},
          "output_type": "execute_result"
        }
      ]
    },
    {
      "cell_type": "code",
      "metadata": {
        "id": "ZdNU5giXvPNd"
      },
      "source": [
        ""
      ],
      "execution_count": null,
      "outputs": []
    },
    {
      "cell_type": "code",
      "metadata": {
        "id": "yWEl8m1dvPNd",
        "outputId": "1d7ea355-7402-4961-953f-7062376b7048"
      },
      "source": [
        "list(range(-3,-13 , 1))"
      ],
      "execution_count": null,
      "outputs": [
        {
          "data": {
            "text/plain": [
              "[]"
            ]
          },
          "execution_count": 119,
          "metadata": {},
          "output_type": "execute_result"
        }
      ]
    },
    {
      "cell_type": "code",
      "metadata": {
        "id": "2oTvNt29vPNe",
        "outputId": "d04e5f3d-70a4-462f-c3e7-b5cf932a38a3"
      },
      "source": [
        "list(range(-3,-13 , -1))"
      ],
      "execution_count": null,
      "outputs": [
        {
          "data": {
            "text/plain": [
              "[-3, -4, -5, -6, -7, -8, -9, -10, -11, -12]"
            ]
          },
          "execution_count": 120,
          "metadata": {},
          "output_type": "execute_result"
        }
      ]
    },
    {
      "cell_type": "code",
      "metadata": {
        "id": "LRDfKJbpvPNe",
        "outputId": "cf749e1f-4e7f-4a05-97f2-7710176e892a"
      },
      "source": [
        "list(range(1,20))"
      ],
      "execution_count": null,
      "outputs": [
        {
          "data": {
            "text/plain": [
              "[1, 2, 3, 4, 5, 6, 7, 8, 9, 10, 11, 12, 13, 14, 15, 16, 17, 18, 19]"
            ]
          },
          "execution_count": 122,
          "metadata": {},
          "output_type": "execute_result"
        }
      ]
    },
    {
      "cell_type": "code",
      "metadata": {
        "id": "vw96PouavPNe",
        "outputId": "755ea3c7-25a2-4d5f-8eb5-75ad01463d20"
      },
      "source": [
        "a = 10 \n",
        "b = 20\n",
        "a+b "
      ],
      "execution_count": null,
      "outputs": [
        {
          "data": {
            "text/plain": [
              "30"
            ]
          },
          "execution_count": 123,
          "metadata": {},
          "output_type": "execute_result"
        }
      ]
    },
    {
      "cell_type": "code",
      "metadata": {
        "id": "nbJBwQ2QvPNf",
        "outputId": "32cebe38-38de-4c03-917b-5a27609a3c3d"
      },
      "source": [
        "a = input(\"enter the value of a \")\n",
        "b = int(input(\"enter value of b \"))\n",
        "print()"
      ],
      "execution_count": null,
      "outputs": [
        {
          "name": "stdout",
          "output_type": "stream",
          "text": [
            "enter the value of a 345\n",
            "enter value of b 5435\n",
            "\n"
          ]
        }
      ]
    },
    {
      "cell_type": "code",
      "metadata": {
        "id": "U_WU_-xhvPNf",
        "outputId": "f75b4b47-1024-4edc-ccdb-55e1c88f3d35"
      },
      "source": [
        "a+b"
      ],
      "execution_count": null,
      "outputs": [
        {
          "data": {
            "text/plain": [
              "43577"
            ]
          },
          "execution_count": 135,
          "metadata": {},
          "output_type": "execute_result"
        }
      ]
    },
    {
      "cell_type": "code",
      "metadata": {
        "id": "hHb0UJQNvPNf",
        "outputId": "4744629f-66d4-4950-e9ab-7c9629f40a28"
      },
      "source": [
        "a = input()\n",
        "b = input()\n",
        "print(type(a))\n",
        "type(b)\n"
      ],
      "execution_count": null,
      "outputs": [
        {
          "name": "stdout",
          "output_type": "stream",
          "text": [
            "354\n",
            "545\n",
            "<class 'str'>\n"
          ]
        },
        {
          "data": {
            "text/plain": [
              "str"
            ]
          },
          "execution_count": 143,
          "metadata": {},
          "output_type": "execute_result"
        }
      ]
    },
    {
      "cell_type": "code",
      "metadata": {
        "id": "QRwwcualvPNg"
      },
      "source": [
        "a = 10 \n",
        "b = 20 \n",
        "c = \"sudh\"\n",
        "d = [1,2,3,4]"
      ],
      "execution_count": null,
      "outputs": []
    },
    {
      "cell_type": "code",
      "metadata": {
        "id": "neOTaKQMvPNg"
      },
      "source": [
        "a,b,c,d = 12, 20,\"sudh\" , [1,2,3,4]"
      ],
      "execution_count": null,
      "outputs": []
    },
    {
      "cell_type": "code",
      "metadata": {
        "id": "ozifc8tfvPNg"
      },
      "source": [
        "a = (1,2,3,4 , \"sudh\" , \"dsfds\" , 45.7)"
      ],
      "execution_count": null,
      "outputs": []
    },
    {
      "cell_type": "code",
      "metadata": {
        "id": "x8P0Z_vSvPNg"
      },
      "source": [
        "l = [1,2,3,4,\"sudh\" , \"dsfds\" , 45.7]"
      ],
      "execution_count": null,
      "outputs": []
    },
    {
      "cell_type": "code",
      "metadata": {
        "id": "vS6uBlgNvPNg",
        "outputId": "0cef2418-0536-4054-b1b9-5af7a8283914"
      },
      "source": [
        "type(a)"
      ],
      "execution_count": null,
      "outputs": [
        {
          "data": {
            "text/plain": [
              "tuple"
            ]
          },
          "execution_count": 156,
          "metadata": {},
          "output_type": "execute_result"
        }
      ]
    },
    {
      "cell_type": "code",
      "metadata": {
        "id": "BVoOygbIvPNh",
        "outputId": "5e808209-e317-4469-c398-144e76ca4fdd"
      },
      "source": [
        "type(l)"
      ],
      "execution_count": null,
      "outputs": [
        {
          "data": {
            "text/plain": [
              "list"
            ]
          },
          "execution_count": 157,
          "metadata": {},
          "output_type": "execute_result"
        }
      ]
    },
    {
      "cell_type": "code",
      "metadata": {
        "id": "ITqYh_jcvPNh",
        "outputId": "195b9f16-1741-4620-9240-2c6c2214db3b"
      },
      "source": [
        "a[0:5]"
      ],
      "execution_count": null,
      "outputs": [
        {
          "data": {
            "text/plain": [
              "(1, 2, 3, 4, 'sudh')"
            ]
          },
          "execution_count": 160,
          "metadata": {},
          "output_type": "execute_result"
        }
      ]
    },
    {
      "cell_type": "code",
      "metadata": {
        "id": "4IL0ElravPNh",
        "outputId": "f934dcc0-04a1-4753-d6fc-800396212aa3"
      },
      "source": [
        "l[0:5]"
      ],
      "execution_count": null,
      "outputs": [
        {
          "data": {
            "text/plain": [
              "[1, 2, 3, 4, 'sudh']"
            ]
          },
          "execution_count": 161,
          "metadata": {},
          "output_type": "execute_result"
        }
      ]
    },
    {
      "cell_type": "code",
      "metadata": {
        "id": "aoEt_uIZvPNi",
        "outputId": "154f2145-d07b-4388-ca35-e968ed7b2d5c"
      },
      "source": [
        "a[::-1]"
      ],
      "execution_count": null,
      "outputs": [
        {
          "data": {
            "text/plain": [
              "(45.7, 'dsfds', 'sudh', 4, 3, 2, 1)"
            ]
          },
          "execution_count": 162,
          "metadata": {},
          "output_type": "execute_result"
        }
      ]
    },
    {
      "cell_type": "code",
      "metadata": {
        "id": "epjEewaKvPNi",
        "outputId": "ff63dd00-dcec-448e-94f3-bb3b3000c6a0"
      },
      "source": [
        "a"
      ],
      "execution_count": null,
      "outputs": [
        {
          "data": {
            "text/plain": [
              "(1, 2, 3, 4, 'sudh', 'dsfds', 45.7)"
            ]
          },
          "execution_count": 163,
          "metadata": {},
          "output_type": "execute_result"
        }
      ]
    },
    {
      "cell_type": "code",
      "metadata": {
        "id": "0XYmi0bpvPNi",
        "outputId": "d6948dc6-d77a-4756-eed6-e5e48543d1a7"
      },
      "source": [
        "l"
      ],
      "execution_count": null,
      "outputs": [
        {
          "data": {
            "text/plain": [
              "[1, 2, 3, 4, 'sudh', 'dsfds', 45.7]"
            ]
          },
          "execution_count": 164,
          "metadata": {},
          "output_type": "execute_result"
        }
      ]
    },
    {
      "cell_type": "code",
      "metadata": {
        "id": "plS1yeg3vPNi",
        "outputId": "867987a1-4b2e-4016-bcde-f1aa82344e9d"
      },
      "source": [
        "a"
      ],
      "execution_count": null,
      "outputs": [
        {
          "data": {
            "text/plain": [
              "(1, 2, 3, 4, 'sudh', 'dsfds', 45.7)"
            ]
          },
          "execution_count": 165,
          "metadata": {},
          "output_type": "execute_result"
        }
      ]
    },
    {
      "cell_type": "code",
      "metadata": {
        "id": "c8NswRZsvPNj"
      },
      "source": [
        "l[0]  = \"sudh\""
      ],
      "execution_count": null,
      "outputs": []
    },
    {
      "cell_type": "code",
      "metadata": {
        "id": "AhifcdAXvPNj",
        "outputId": "f3a983ff-b68e-48fc-9738-bed50cbe13ee"
      },
      "source": [
        "l"
      ],
      "execution_count": null,
      "outputs": [
        {
          "data": {
            "text/plain": [
              "['sudh', 2, 3, 4, 'sudh', 'dsfds', 45.7]"
            ]
          },
          "execution_count": 168,
          "metadata": {},
          "output_type": "execute_result"
        }
      ]
    },
    {
      "cell_type": "code",
      "metadata": {
        "id": "lXqG6Dq7vPNj",
        "outputId": "dbd2cf84-76d7-4068-a20e-faf9f0546f35"
      },
      "source": [
        "a "
      ],
      "execution_count": null,
      "outputs": [
        {
          "data": {
            "text/plain": [
              "(1, 2, 3, 4, 'sudh', 'dsfds', 45.7)"
            ]
          },
          "execution_count": 169,
          "metadata": {},
          "output_type": "execute_result"
        }
      ]
    },
    {
      "cell_type": "code",
      "metadata": {
        "id": "gt5rGmOgvPNk",
        "outputId": "d2d5455e-66be-44bb-cb0f-ccc626c6fa89"
      },
      "source": [
        "a[0]"
      ],
      "execution_count": null,
      "outputs": [
        {
          "data": {
            "text/plain": [
              "1"
            ]
          },
          "execution_count": 170,
          "metadata": {},
          "output_type": "execute_result"
        }
      ]
    },
    {
      "cell_type": "code",
      "metadata": {
        "id": "oEK9eMVjvPNk",
        "outputId": "5f221423-9c27-4d0d-d0d5-35ac981165c1"
      },
      "source": [
        "a[0] = \"kumar\""
      ],
      "execution_count": null,
      "outputs": [
        {
          "ename": "TypeError",
          "evalue": "'tuple' object does not support item assignment",
          "output_type": "error",
          "traceback": [
            "\u001b[1;31m---------------------------------------------------------------------------\u001b[0m",
            "\u001b[1;31mTypeError\u001b[0m                                 Traceback (most recent call last)",
            "\u001b[1;32m<ipython-input-171-4e9ee1f28767>\u001b[0m in \u001b[0;36m<module>\u001b[1;34m\u001b[0m\n\u001b[1;32m----> 1\u001b[1;33m \u001b[0ma\u001b[0m\u001b[1;33m[\u001b[0m\u001b[1;36m0\u001b[0m\u001b[1;33m]\u001b[0m \u001b[1;33m=\u001b[0m \u001b[1;34m\"kumar\"\u001b[0m\u001b[1;33m\u001b[0m\u001b[1;33m\u001b[0m\u001b[0m\n\u001b[0m",
            "\u001b[1;31mTypeError\u001b[0m: 'tuple' object does not support item assignment"
          ]
        }
      ]
    },
    {
      "cell_type": "code",
      "metadata": {
        "id": "MVot1YnfvPNl",
        "outputId": "553d4baf-1106-40f6-f99c-97c85f4246d4"
      },
      "source": [
        "a "
      ],
      "execution_count": null,
      "outputs": [
        {
          "data": {
            "text/plain": [
              "(1, 2, 3, 4, 'sudh', 'dsfds', 45.7)"
            ]
          },
          "execution_count": 172,
          "metadata": {},
          "output_type": "execute_result"
        }
      ]
    },
    {
      "cell_type": "code",
      "metadata": {
        "id": "7i1ltHy3vPNl"
      },
      "source": [
        "a = (3,4,5,6)"
      ],
      "execution_count": null,
      "outputs": []
    },
    {
      "cell_type": "code",
      "metadata": {
        "id": "iTW15hgXvPNl"
      },
      "source": [
        "s = \"kumar\""
      ],
      "execution_count": null,
      "outputs": []
    },
    {
      "cell_type": "code",
      "metadata": {
        "id": "vaO4fh1KvPNl",
        "outputId": "60e0082b-d320-4eac-f7bf-42302fdd2439"
      },
      "source": [
        "s[0]"
      ],
      "execution_count": null,
      "outputs": [
        {
          "data": {
            "text/plain": [
              "'k'"
            ]
          },
          "execution_count": 174,
          "metadata": {},
          "output_type": "execute_result"
        }
      ]
    },
    {
      "cell_type": "code",
      "metadata": {
        "id": "CTZKcTARvPNm",
        "outputId": "bdd8da61-fbc6-4964-cd84-abc831d65ecc"
      },
      "source": [
        "s[0] = \"h\""
      ],
      "execution_count": null,
      "outputs": [
        {
          "ename": "TypeError",
          "evalue": "'str' object does not support item assignment",
          "output_type": "error",
          "traceback": [
            "\u001b[1;31m---------------------------------------------------------------------------\u001b[0m",
            "\u001b[1;31mTypeError\u001b[0m                                 Traceback (most recent call last)",
            "\u001b[1;32m<ipython-input-175-ec8ba53f6c25>\u001b[0m in \u001b[0;36m<module>\u001b[1;34m\u001b[0m\n\u001b[1;32m----> 1\u001b[1;33m \u001b[0ms\u001b[0m\u001b[1;33m[\u001b[0m\u001b[1;36m0\u001b[0m\u001b[1;33m]\u001b[0m \u001b[1;33m=\u001b[0m \u001b[1;34m\"h\"\u001b[0m\u001b[1;33m\u001b[0m\u001b[1;33m\u001b[0m\u001b[0m\n\u001b[0m",
            "\u001b[1;31mTypeError\u001b[0m: 'str' object does not support item assignment"
          ]
        }
      ]
    },
    {
      "cell_type": "code",
      "metadata": {
        "id": "ZydKOVxAvPNm",
        "outputId": "5edfd9c8-8f15-4413-fffb-1a61a19999e5"
      },
      "source": [
        "a(::-1)"
      ],
      "execution_count": null,
      "outputs": [
        {
          "ename": "SyntaxError",
          "evalue": "invalid syntax (<ipython-input-176-70fe2e570b73>, line 1)",
          "output_type": "error",
          "traceback": [
            "\u001b[1;36m  File \u001b[1;32m\"<ipython-input-176-70fe2e570b73>\"\u001b[1;36m, line \u001b[1;32m1\u001b[0m\n\u001b[1;33m    a(::-1)\u001b[0m\n\u001b[1;37m      ^\u001b[0m\n\u001b[1;31mSyntaxError\u001b[0m\u001b[1;31m:\u001b[0m invalid syntax\n"
          ]
        }
      ]
    },
    {
      "cell_type": "code",
      "metadata": {
        "id": "AWVrvpJYvPNm",
        "outputId": "50e01459-682d-4258-d41b-901e02de903d"
      },
      "source": [
        "a[::-1]"
      ],
      "execution_count": null,
      "outputs": [
        {
          "data": {
            "text/plain": [
              "(45.7, 'dsfds', 'sudh', 4, 3, 2, 1)"
            ]
          },
          "execution_count": 177,
          "metadata": {},
          "output_type": "execute_result"
        }
      ]
    },
    {
      "cell_type": "code",
      "metadata": {
        "id": "XnJL_ZhovPNn",
        "outputId": "fa5068b8-8b15-4651-d149-9113fd6004e4"
      },
      "source": [
        "s"
      ],
      "execution_count": null,
      "outputs": [
        {
          "data": {
            "text/plain": [
              "'kumar'"
            ]
          },
          "execution_count": 178,
          "metadata": {},
          "output_type": "execute_result"
        }
      ]
    },
    {
      "cell_type": "code",
      "metadata": {
        "id": "gyzd5diSvPNn",
        "outputId": "3733546b-269c-4af5-fe9f-73ae822505cc"
      },
      "source": [
        "s[5:1]"
      ],
      "execution_count": null,
      "outputs": [
        {
          "data": {
            "text/plain": [
              "''"
            ]
          },
          "execution_count": 179,
          "metadata": {},
          "output_type": "execute_result"
        }
      ]
    },
    {
      "cell_type": "code",
      "metadata": {
        "id": "LYsDO__nvPNn",
        "outputId": "058bef1a-f2e7-46cd-edb9-7d3de0ac04e4"
      },
      "source": [
        "UserInput=[]\n",
        "for n in range (3):\n",
        "  value=input()\n",
        "  UserInput.append(value)\n",
        "print(UserInput)\n"
      ],
      "execution_count": null,
      "outputs": [
        {
          "name": "stdout",
          "output_type": "stream",
          "text": [
            "fgd\n",
            "dfg\n",
            "dfg\n",
            "['fgd', 'dfg', 'dfg']\n"
          ]
        }
      ]
    },
    {
      "cell_type": "code",
      "metadata": {
        "id": "9CzoH6kavPNn",
        "outputId": "ba54cc36-1222-4ac2-e635-defaa215996b"
      },
      "source": [
        "a = 10 \n",
        "if a :\n",
        "    print(\"this is a value of a \")"
      ],
      "execution_count": null,
      "outputs": [
        {
          "name": "stdout",
          "output_type": "stream",
          "text": [
            "this is a value of a \n"
          ]
        }
      ]
    },
    {
      "cell_type": "code",
      "metadata": {
        "id": "ARH_rGVmvPNo",
        "outputId": "45c8ae18-7486-4cc7-c30b-1ff858b67a23"
      },
      "source": [
        "a = 10 \n",
        "if a < 20:\n",
        "    print(\"test\")"
      ],
      "execution_count": null,
      "outputs": [
        {
          "name": "stdout",
          "output_type": "stream",
          "text": [
            "test\n"
          ]
        }
      ]
    },
    {
      "cell_type": "code",
      "metadata": {
        "id": "zJl2wxWWvPNo",
        "outputId": "73bef85b-1a68-43ab-d14b-d6d934da42a6"
      },
      "source": [
        "a < 20"
      ],
      "execution_count": null,
      "outputs": [
        {
          "data": {
            "text/plain": [
              "True"
            ]
          },
          "execution_count": 183,
          "metadata": {},
          "output_type": "execute_result"
        }
      ]
    },
    {
      "cell_type": "code",
      "metadata": {
        "id": "waZ9Nu8_vPNo"
      },
      "source": [
        "a = 10 \n",
        "if a < 20:\n",
        "    pass"
      ],
      "execution_count": null,
      "outputs": []
    },
    {
      "cell_type": "code",
      "metadata": {
        "id": "JNQAxoT4vPNo",
        "outputId": "547e7baf-272a-4308-dd68-80b7c24a0f17"
      },
      "source": [
        "a = int(input('Enter a number: '))\n",
        "if a <= 20:\n",
        "    print(\"True\")\n",
        "else:print('False')\n"
      ],
      "execution_count": null,
      "outputs": [
        {
          "name": "stdout",
          "output_type": "stream",
          "text": [
            "Enter a number: 43\n",
            "False\n"
          ]
        }
      ]
    },
    {
      "cell_type": "code",
      "metadata": {
        "id": "8v81qCaEvPNp",
        "outputId": "0307862e-803c-40cc-f16a-f2546929e7f3"
      },
      "source": [
        "a = 10 \n",
        "if a == 30 :\n",
        "    print(\"this is my alternate statement\")\n",
        "elif type(a) == int: \n",
        "    print(\" i am checking a type of var\")\n",
        "elif a < 20 :\n",
        "    print(\"print form elif\")\n",
        "else :\n",
        "    print(\"print this statement \")"
      ],
      "execution_count": null,
      "outputs": [
        {
          "name": "stdout",
          "output_type": "stream",
          "text": [
            " i am checking a type of var\n"
          ]
        }
      ]
    },
    {
      "cell_type": "code",
      "metadata": {
        "id": "2HIEGQWNvPNp",
        "outputId": "db1b3e0e-d560-413e-80d8-377d99ba8011"
      },
      "source": [
        "type(a) == int"
      ],
      "execution_count": null,
      "outputs": [
        {
          "data": {
            "text/plain": [
              "True"
            ]
          },
          "execution_count": 197,
          "metadata": {},
          "output_type": "execute_result"
        }
      ]
    },
    {
      "cell_type": "code",
      "metadata": {
        "id": "_rygJztcvPNp",
        "outputId": "08c6517f-10c6-4e48-d08c-c12a5ae4b467"
      },
      "source": [
        "Discount = int(input())\n",
        "if Discount == 50 :\n",
        "    print(\"you can buy all the items listed in row one \")\n",
        "elif Discount == 30 :\n",
        "    print(\"you can buy all the items from row no 2 \")\n",
        "elif Discount == 20 :\n",
        "    print(\"send user to row no 3 \")\n",
        "elif Discount > 10 :\n",
        "    print(\"send him to 4th row \")\n",
        "else :\n",
        "    print(\"there is no item available \")"
      ],
      "execution_count": null,
      "outputs": [
        {
          "name": "stdout",
          "output_type": "stream",
          "text": [
            "50\n",
            "you can buy all the items listed in row one \n"
          ]
        }
      ]
    },
    {
      "cell_type": "code",
      "metadata": {
        "id": "r7LsAfP2vPNq",
        "outputId": "fed447fb-b2f6-4e46-fa8b-d447e022b3e2"
      },
      "source": [
        "income = int(input())\n",
        "if income > 1000:\n",
        "    print(\"you can get a platinum card \")\n",
        "    if income > 2000:\n",
        "        print(\"you will be able to get another facilities \")\n",
        "        if income > 2200 :\n",
        "            print(\"you will be able to get a discount in services \")\n",
        "        elif income > 2300:\n",
        "            print(\"you will be able to get air ticket \")\n",
        "        else :\n",
        "            print(\"there is no option available \")\n",
        "    elif income < 1500:\n",
        "        print(\"you wont be able to get another things \")\n",
        "    else :\n",
        "        print(\" no option \")\n",
        "    \n",
        "elif income >800:\n",
        "    print(\"you will be able to get gold card \")\n",
        "else :\n",
        "    print(\"you won't be able to get any card \")"
      ],
      "execution_count": null,
      "outputs": [
        {
          "name": "stdout",
          "output_type": "stream",
          "text": [
            "1500\n",
            "you can get a platinum card \n",
            " no option \n"
          ]
        }
      ]
    },
    {
      "cell_type": "code",
      "metadata": {
        "id": "_dhDIkdWvPNq",
        "outputId": "d4047bc4-651e-46ea-93be-777d1a4723d8"
      },
      "source": [
        "val = int(input())\n",
        "if val == 10 :print(\"this is 10 \")"
      ],
      "execution_count": null,
      "outputs": [
        {
          "name": "stdout",
          "output_type": "stream",
          "text": [
            "10\n",
            "this is 10 \n"
          ]
        }
      ]
    },
    {
      "cell_type": "code",
      "metadata": {
        "id": "OeaWdHc-vPNr",
        "outputId": "cc53f177-a591-4332-9edf-310b7ae2cd40"
      },
      "source": [
        "l = [2,3,4,5,6,1,2,3,3]\n",
        "l"
      ],
      "execution_count": null,
      "outputs": [
        {
          "data": {
            "text/plain": [
              "[2, 3, 4, 5, 6, 1, 2, 3, 3]"
            ]
          },
          "execution_count": 207,
          "metadata": {},
          "output_type": "execute_result"
        }
      ]
    },
    {
      "cell_type": "code",
      "metadata": {
        "id": "3Cc83XdDvPNr",
        "outputId": "fef05649-ff1f-4466-eccf-483e81871472"
      },
      "source": [
        "l[::]"
      ],
      "execution_count": null,
      "outputs": [
        {
          "data": {
            "text/plain": [
              "[2, 3, 4, 5, 6, 1, 2, 3, 3]"
            ]
          },
          "execution_count": 208,
          "metadata": {},
          "output_type": "execute_result"
        }
      ]
    },
    {
      "cell_type": "code",
      "metadata": {
        "id": "d-gkbQVSvPNs",
        "outputId": "ddb6119e-f370-41b7-84df-cb54c4cce451"
      },
      "source": [
        "for i in l :\n",
        "    print(i)"
      ],
      "execution_count": null,
      "outputs": [
        {
          "name": "stdout",
          "output_type": "stream",
          "text": [
            "2\n",
            "3\n",
            "4\n",
            "5\n",
            "6\n",
            "1\n",
            "2\n",
            "3\n",
            "3\n"
          ]
        }
      ]
    },
    {
      "cell_type": "code",
      "metadata": {
        "id": "zgohnLFFvPNs",
        "outputId": "3f525656-e777-4233-96b0-9798afba0cba"
      },
      "source": [
        "l = [\"sudh\" , [1,2,3,4,5] , (2,3,4,5,6) , 56,67,6+7j , True , 45.67, \"kumar\"]\n",
        "for i in l :\n",
        "    print(i)"
      ],
      "execution_count": null,
      "outputs": [
        {
          "name": "stdout",
          "output_type": "stream",
          "text": [
            "sudh\n",
            "[1, 2, 3, 4, 5]\n",
            "(2, 3, 4, 5, 6)\n",
            "56\n",
            "67\n",
            "(6+7j)\n",
            "True\n",
            "45.67\n",
            "kumar\n"
          ]
        }
      ]
    },
    {
      "cell_type": "code",
      "metadata": {
        "id": "bP4pEZ3FvPNs",
        "outputId": "70273cbd-9855-4b99-8145-029fdcb712b7"
      },
      "source": [
        "for i in l :\n",
        "    if type(i) == str :\n",
        "        print(i)"
      ],
      "execution_count": null,
      "outputs": [
        {
          "name": "stdout",
          "output_type": "stream",
          "text": [
            "sudh\n",
            "kumar\n"
          ]
        }
      ]
    },
    {
      "cell_type": "code",
      "metadata": {
        "id": "pVG0So0RvPNt",
        "outputId": "46132055-a2ea-46fe-e9da-afd702323488"
      },
      "source": [
        "l"
      ],
      "execution_count": null,
      "outputs": [
        {
          "data": {
            "text/plain": [
              "['sudh',\n",
              " [1, 2, 3, 4, 5],\n",
              " (2, 3, 4, 5, 6),\n",
              " 56,\n",
              " 67,\n",
              " (6+7j),\n",
              " True,\n",
              " 45.67,\n",
              " 'kumar']"
            ]
          },
          "execution_count": 218,
          "metadata": {},
          "output_type": "execute_result"
        }
      ]
    },
    {
      "cell_type": "code",
      "metadata": {
        "id": "AXxMskoKvPNt",
        "outputId": "80d3c3ed-5014-40ee-e225-836f1ca0b6c0"
      },
      "source": [
        "for n  in l :\n",
        "    if type(n)== list :\n",
        "        print(n[::-1])"
      ],
      "execution_count": null,
      "outputs": [
        {
          "name": "stdout",
          "output_type": "stream",
          "text": [
            "[5, 4, 3, 2, 1]\n"
          ]
        }
      ]
    },
    {
      "cell_type": "code",
      "metadata": {
        "id": "AcvpEuncvPNt",
        "outputId": "afea55e5-6774-4d8b-fc58-470d82103999"
      },
      "source": [
        "s = \"sudh kumar\"\n",
        "\n",
        "for i in s :\n",
        "    print(i + \"1\")"
      ],
      "execution_count": null,
      "outputs": [
        {
          "name": "stdout",
          "output_type": "stream",
          "text": [
            "s1\n",
            "u1\n",
            "d1\n",
            "h1\n",
            " 1\n",
            "k1\n",
            "u1\n",
            "m1\n",
            "a1\n",
            "r1\n"
          ]
        }
      ]
    },
    {
      "cell_type": "code",
      "metadata": {
        "id": "RPaqZz78vPNu",
        "outputId": "bdddba81-5d69-4a4d-9930-2d351190c666"
      },
      "source": [
        "t = (3,4,5,6,7)\n",
        "for i in t :\n",
        "    print(i)"
      ],
      "execution_count": null,
      "outputs": [
        {
          "name": "stdout",
          "output_type": "stream",
          "text": [
            "3\n",
            "4\n",
            "5\n",
            "6\n",
            "7\n"
          ]
        }
      ]
    },
    {
      "cell_type": "code",
      "metadata": {
        "id": "8LHEVCndvPNu",
        "outputId": "b14af649-098c-4bc5-dd3d-9049edff359b"
      },
      "source": [
        "tuple(range(10))"
      ],
      "execution_count": null,
      "outputs": [
        {
          "data": {
            "text/plain": [
              "(0, 1, 2, 3, 4, 5, 6, 7, 8, 9)"
            ]
          },
          "execution_count": 228,
          "metadata": {},
          "output_type": "execute_result"
        }
      ]
    },
    {
      "cell_type": "code",
      "metadata": {
        "id": "Rxdsn6SMvPNu",
        "outputId": "c51e1c3f-8d77-4bb7-8e5d-a7db51260255"
      },
      "source": [
        "for i in range(10):\n",
        "    print(i)"
      ],
      "execution_count": null,
      "outputs": [
        {
          "name": "stdout",
          "output_type": "stream",
          "text": [
            "0\n",
            "1\n",
            "2\n",
            "3\n",
            "4\n",
            "5\n",
            "6\n",
            "7\n",
            "8\n",
            "9\n"
          ]
        }
      ]
    },
    {
      "cell_type": "code",
      "metadata": {
        "id": "juHohltOvPNu",
        "outputId": "79256f13-0cef-4f50-c428-f88a97908fe4"
      },
      "source": [
        "l = [\"hello\",[2,3,3],\"str\", 45.7, 45+i, True , (2,3,4)]\n",
        "for n in l:\n",
        "    if type(n) == list:\n",
        "        print(n) "
      ],
      "execution_count": null,
      "outputs": [
        {
          "name": "stdout",
          "output_type": "stream",
          "text": [
            "[2, 3, 3]\n"
          ]
        }
      ]
    },
    {
      "cell_type": "code",
      "metadata": {
        "id": "wAbFTlHivPNv",
        "outputId": "7009ea62-ecb5-474c-c8b7-3b0f0fcb8bef"
      },
      "source": [
        "a = 103454\n",
        "for i in str(a) :\n",
        "    print(i)\n",
        "    "
      ],
      "execution_count": null,
      "outputs": [
        {
          "name": "stdout",
          "output_type": "stream",
          "text": [
            "1\n",
            "0\n",
            "3\n",
            "4\n",
            "5\n",
            "4\n"
          ]
        }
      ]
    },
    {
      "cell_type": "code",
      "metadata": {
        "id": "d2IcC6MOvPNv",
        "outputId": "35a42c7c-357a-4d3f-d799-8300b359b5d0"
      },
      "source": [
        "li = [[1,2,3,4,], \"Jhon\", (1,2,3,4), 445, 44.8, 3+5j,True,\"Smith\"]\n",
        "for i in li:\n",
        "    if type(i) == list or  type(i) == tuple or  type(i) == str:\n",
        "        print(i)\n",
        "    else :\n",
        "        print(\" this is not possible \")"
      ],
      "execution_count": null,
      "outputs": [
        {
          "name": "stdout",
          "output_type": "stream",
          "text": [
            "[1, 2, 3, 4]\n",
            "Jhon\n",
            "(1, 2, 3, 4)\n",
            " this is not possible \n",
            " this is not possible \n",
            " this is not possible \n",
            " this is not possible \n",
            "Smith\n"
          ]
        }
      ]
    },
    {
      "cell_type": "code",
      "metadata": {
        "id": "RSQqKPs5vPNv",
        "outputId": "be210b3d-021b-4399-8b46-54958316e146"
      },
      "source": [
        "li = [[1,2,3,4,], \"Jhon\", (1,2,3,4), 445, 44.8, 3+5j,True,\"Smith\"]\n",
        "\n",
        "for i in li :\n",
        "    #print(i)\n",
        "    if type(i) == list or type(i) == tuple  :\n",
        "        print(i)\n",
        "        for j in i:\n",
        "            print(j)"
      ],
      "execution_count": null,
      "outputs": [
        {
          "name": "stdout",
          "output_type": "stream",
          "text": [
            "[1, 2, 3, 4]\n",
            "1\n",
            "2\n",
            "3\n",
            "4\n",
            "(1, 2, 3, 4)\n",
            "1\n",
            "2\n",
            "3\n",
            "4\n"
          ]
        }
      ]
    },
    {
      "cell_type": "code",
      "metadata": {
        "id": "ozdq7B0NvPNw",
        "outputId": "f47ff466-bbed-4cc8-bef1-5f835d484f41"
      },
      "source": [
        "n = int(input())\n",
        "for i in range(n):\n",
        "    for j in range(i+1):\n",
        "        print(\".\" , end  = \"__\")\n",
        "    print(\" \")"
      ],
      "execution_count": null,
      "outputs": [
        {
          "name": "stdout",
          "output_type": "stream",
          "text": [
            "10\n",
            ".__ \n",
            ".__.__ \n",
            ".__.__.__ \n",
            ".__.__.__.__ \n",
            ".__.__.__.__.__ \n",
            ".__.__.__.__.__.__ \n",
            ".__.__.__.__.__.__.__ \n",
            ".__.__.__.__.__.__.__.__ \n",
            ".__.__.__.__.__.__.__.__.__ \n",
            ".__.__.__.__.__.__.__.__.__.__ \n"
          ]
        }
      ]
    },
    {
      "cell_type": "code",
      "metadata": {
        "id": "MLfRMwrjvPNx",
        "outputId": "2fa2ce5c-39f5-41b7-ad63-a66b4970b56b"
      },
      "source": [
        "for i in l:\n",
        "  for x in i:\n",
        "    c=0\n",
        "    for y in i:\n",
        "      if(x==y):\n",
        "        c=c+1\n",
        "    if(c>1):    \n",
        "      print (x,\"is repeated\",c,\"times\")\n"
      ],
      "execution_count": null,
      "outputs": [
        {
          "name": "stdout",
          "output_type": "stream",
          "text": [
            "l is repeated 2 times\n",
            "l is repeated 2 times\n",
            "3 is repeated 2 times\n",
            "3 is repeated 2 times\n"
          ]
        },
        {
          "ename": "TypeError",
          "evalue": "'float' object is not iterable",
          "output_type": "error",
          "traceback": [
            "\u001b[1;31m---------------------------------------------------------------------------\u001b[0m",
            "\u001b[1;31mTypeError\u001b[0m                                 Traceback (most recent call last)",
            "\u001b[1;32m<ipython-input-258-6988d219eef8>\u001b[0m in \u001b[0;36m<module>\u001b[1;34m\u001b[0m\n\u001b[0;32m      1\u001b[0m \u001b[1;32mfor\u001b[0m \u001b[0mi\u001b[0m \u001b[1;32min\u001b[0m \u001b[0ml\u001b[0m\u001b[1;33m:\u001b[0m\u001b[1;33m\u001b[0m\u001b[1;33m\u001b[0m\u001b[0m\n\u001b[1;32m----> 2\u001b[1;33m   \u001b[1;32mfor\u001b[0m \u001b[0mx\u001b[0m \u001b[1;32min\u001b[0m \u001b[0mi\u001b[0m\u001b[1;33m:\u001b[0m\u001b[1;33m\u001b[0m\u001b[1;33m\u001b[0m\u001b[0m\n\u001b[0m\u001b[0;32m      3\u001b[0m     \u001b[0mc\u001b[0m\u001b[1;33m=\u001b[0m\u001b[1;36m0\u001b[0m\u001b[1;33m\u001b[0m\u001b[1;33m\u001b[0m\u001b[0m\n\u001b[0;32m      4\u001b[0m     \u001b[1;32mfor\u001b[0m \u001b[0my\u001b[0m \u001b[1;32min\u001b[0m \u001b[0mi\u001b[0m\u001b[1;33m:\u001b[0m\u001b[1;33m\u001b[0m\u001b[1;33m\u001b[0m\u001b[0m\n\u001b[0;32m      5\u001b[0m       \u001b[1;32mif\u001b[0m\u001b[1;33m(\u001b[0m\u001b[0mx\u001b[0m\u001b[1;33m==\u001b[0m\u001b[0my\u001b[0m\u001b[1;33m)\u001b[0m\u001b[1;33m:\u001b[0m\u001b[1;33m\u001b[0m\u001b[1;33m\u001b[0m\u001b[0m\n",
            "\u001b[1;31mTypeError\u001b[0m: 'float' object is not iterable"
          ]
        }
      ]
    },
    {
      "cell_type": "code",
      "metadata": {
        "id": "FHANlyFevPNy",
        "outputId": "dbae46cb-5169-40b7-b40e-826a95823b90"
      },
      "source": [
        " n = int(input())\n",
        "star = 1\n",
        "space = n-1\n",
        "\n",
        "for i in range(2*n+1):\n",
        "    if i<n:\n",
        "        for j in range(space):\n",
        "            print(\"\", end = \" \")\n",
        "        for j in range(star):\n",
        "            print(\"*\", end = \" \")\n",
        "        space = space-1\n",
        "        star = star + 1\n",
        "        print()\n",
        "    elif i==n:\n",
        "        space = space + 1 \n",
        "        star = star - 1\n",
        "    else:\n",
        "        space = space + 1 \n",
        "        star = star - 1\n",
        "        for j in range(space):\n",
        "            print(\"\", end = \" \")\n",
        "        for j in range(star):\n",
        "            print(\"*\", end = \" \")\n",
        "        \n",
        "        print()\n"
      ],
      "execution_count": null,
      "outputs": [
        {
          "name": "stdout",
          "output_type": "stream",
          "text": [
            "7\n",
            "      * \n",
            "     * * \n",
            "    * * * \n",
            "   * * * * \n",
            "  * * * * * \n",
            " * * * * * * \n",
            "* * * * * * * \n",
            " * * * * * * \n",
            "  * * * * * \n",
            "   * * * * \n",
            "    * * * \n",
            "     * * \n",
            "      * \n",
            "       \n"
          ]
        }
      ]
    },
    {
      "cell_type": "code",
      "metadata": {
        "id": "RPZlyr-evPNz",
        "outputId": "cd9ab51c-1a88-4b58-e084-5f567f16868e"
      },
      "source": [
        "l = [[1,2,2,3,3],[2,4,2,2,5],[1,5,8,8,2]]\n",
        "x = []\n",
        "for i in l:\n",
        "    if type(i)== list:\n",
        "        for j in i:\n",
        "            if j not in x:\n",
        "                x.append(j)\n",
        "                print(\"the count of \",j,\" is \",i.count(j))\n",
        "            else:\n",
        "                x.append(j)"
      ],
      "execution_count": null,
      "outputs": [
        {
          "name": "stdout",
          "output_type": "stream",
          "text": [
            "the count of  1  is  1\n",
            "the count of  2  is  2\n",
            "the count of  3  is  2\n",
            "the count of  4  is  1\n",
            "the count of  5  is  1\n",
            "the count of  8  is  2\n"
          ]
        }
      ]
    },
    {
      "cell_type": "code",
      "metadata": {
        "id": "vd2P35dEvPNz",
        "outputId": "38e0c019-a15f-458b-d2d7-e1dda0c50775"
      },
      "source": [
        "First_Solutionn = int(input(\"Enter a no.\"))\n",
        "\n",
        "for i in range(0,n):\n",
        "    print(\" \"*(n-i),\". \"* i,\" \"*(n-i))\n",
        "for i in range(n-2,0,-1):\n",
        "    print(\" \"*(n-i),\". \"* i,\" \"*(n-i))\n"
      ],
      "execution_count": null,
      "outputs": [
        {
          "name": "stdout",
          "output_type": "stream",
          "text": [
            "Enter a no.6\n",
            "                \n",
            "       .        \n",
            "      . .       \n",
            "     . . .      \n",
            "    . . . .     \n",
            "   . . . . .    \n",
            "  . . . . . .   \n",
            "   . . . . .    \n",
            "    . . . .     \n",
            "     . . .      \n",
            "      . .       \n",
            "       .        \n"
          ]
        }
      ]
    },
    {
      "cell_type": "code",
      "metadata": {
        "id": "E1Rk24bivPN0",
        "outputId": "a922b1cc-f189-4470-ad1c-727062da0248"
      },
      "source": [
        "from collections import Counter\n",
        "a=[[1,1,2,2,3,3],[2,4,2,2,5],[1,5,8,8,2]]\n",
        "check={}\n",
        "for i in a:\n",
        "    if type(i)==list:\n",
        "        b=Counter(i)\n",
        "        print(b)\n"
      ],
      "execution_count": null,
      "outputs": [
        {
          "name": "stdout",
          "output_type": "stream",
          "text": [
            "Counter({1: 2, 2: 2, 3: 2})\n",
            "Counter({2: 3, 4: 1, 5: 1})\n",
            "Counter({8: 2, 1: 1, 5: 1, 2: 1})\n"
          ]
        }
      ]
    },
    {
      "cell_type": "code",
      "metadata": {
        "id": "Yr7ld_UJvPN0",
        "outputId": "4aa2a32f-6b6e-4836-fbe4-6b6339ca911a"
      },
      "source": [
        "n=5\n",
        "for i in range(n):\n",
        "    for j in range(i+1):\n",
        "        print(\".\", end=\"\")\n",
        "    print(\"\")\n",
        "    \n",
        "for ii in range(n,0,-1):\n",
        "    jj=ii\n",
        "    for jj in range(jj-1,0,-1):\n",
        "        print(\".\", end=\"\")\n",
        "    print(\"\")\n"
      ],
      "execution_count": null,
      "outputs": [
        {
          "name": "stdout",
          "output_type": "stream",
          "text": [
            ".\n",
            "..\n",
            "...\n",
            "....\n",
            ".....\n",
            "....\n",
            "...\n",
            "..\n",
            ".\n",
            "\n"
          ]
        }
      ]
    },
    {
      "cell_type": "code",
      "metadata": {
        "id": "3d4K9SsAvPN1",
        "outputId": "2324d44a-bc44-4c3f-9899-498559392571"
      },
      "source": [
        "for i in l:\n",
        "    if type(i)==list:\n",
        "        for j in range(len(i)):\n",
        "            if i.count(i[j])>1: \n",
        "                print(\"count of {} is {}\".format(i[j],i.count(i[j])))\n"
      ],
      "execution_count": null,
      "outputs": [
        {
          "name": "stdout",
          "output_type": "stream",
          "text": [
            "count of 2 is 2\n",
            "count of 2 is 2\n",
            "count of 3 is 2\n",
            "count of 3 is 2\n",
            "count of 2 is 3\n",
            "count of 2 is 3\n",
            "count of 2 is 3\n",
            "count of 8 is 2\n",
            "count of 8 is 2\n"
          ]
        }
      ]
    },
    {
      "cell_type": "code",
      "metadata": {
        "id": "iNAW_KSLvPN2",
        "outputId": "e66412e4-e7e9-4b1f-885b-1b8df5853fff"
      },
      "source": [
        "lst = [[1,1,2,2,3,3],[2,4,2,2,5],[1,5,8,8,2]]\n",
        "a = 1\n",
        "for i in lst:\n",
        "    for j in i:\n",
        "        if i.count(j) >=2:\n",
        "            print(\" occurence of {} in list {} is {}\".format(j,a,i.count(j)))\n",
        "    a +=1\n"
      ],
      "execution_count": null,
      "outputs": [
        {
          "name": "stdout",
          "output_type": "stream",
          "text": [
            " occurence of 1 in list 1 is 2\n",
            " occurence of 1 in list 1 is 2\n",
            " occurence of 2 in list 1 is 2\n",
            " occurence of 2 in list 1 is 2\n",
            " occurence of 3 in list 1 is 2\n",
            " occurence of 3 in list 1 is 2\n",
            " occurence of 2 in list 2 is 3\n",
            " occurence of 2 in list 2 is 3\n",
            " occurence of 2 in list 2 is 3\n",
            " occurence of 8 in list 3 is 2\n",
            " occurence of 8 in list 3 is 2\n"
          ]
        }
      ]
    },
    {
      "cell_type": "code",
      "metadata": {
        "id": "QSP6-ctavPN2",
        "outputId": "a8dd3adc-2c07-45ad-abd2-edd657c58fb8"
      },
      "source": [
        "s = \"happy\"\n",
        "for i in range(len(s)):\n",
        "    print(s[i] , i)"
      ],
      "execution_count": null,
      "outputs": [
        {
          "name": "stdout",
          "output_type": "stream",
          "text": [
            "h 0\n",
            "a 1\n",
            "p 2\n",
            "p 3\n",
            "y 4\n"
          ]
        }
      ]
    },
    {
      "cell_type": "code",
      "metadata": {
        "id": "G7Kx7SqYvPN2",
        "outputId": "662cbc2f-fa0c-42ad-f57e-751e13b4aa70"
      },
      "source": [
        "income=int(input ())\n",
        "\n",
        "if income>1000:\n",
        "    print ('you can get a platinum card')\n",
        "elif income >800:\n",
        "    print(\"you can get a gold card\")\n",
        "else :\n",
        "    print(\"you will not get a card\")\n"
      ],
      "execution_count": null,
      "outputs": [
        {
          "name": "stdout",
          "output_type": "stream",
          "text": [
            "456464\n",
            "you can get a platinum card\n",
            "you can get a platinum card\n",
            "you can get a platinum card\n"
          ]
        }
      ]
    },
    {
      "cell_type": "code",
      "metadata": {
        "id": "8mFb7ucQvPN3"
      },
      "source": [
        "\n",
        "if income>1000:\n",
        "    print ('you can get a platinum card')"
      ],
      "execution_count": null,
      "outputs": []
    },
    {
      "cell_type": "code",
      "metadata": {
        "id": "A8s_hdAnvPN3"
      },
      "source": [
        "\n",
        "if income>1000:\n",
        "    print ('you can get a platinum card')"
      ],
      "execution_count": null,
      "outputs": []
    },
    {
      "cell_type": "code",
      "metadata": {
        "id": "152xtpcTvPN3",
        "outputId": "2a1e3341-02b8-4656-e4c1-69c63c56c7b3"
      },
      "source": [
        "l = [7, \"sudh\"]\n",
        "j=(1,2,3,4)\n",
        "for i in range(len(l)) :\n",
        "    if type(i)==int :\n",
        "        l.insert(0,j)\n",
        "          "
      ],
      "execution_count": null,
      "outputs": [
        {
          "ename": "KeyboardInterrupt",
          "evalue": "",
          "output_type": "error",
          "traceback": [
            "\u001b[1;31m---------------------------------------------------------------------------\u001b[0m",
            "\u001b[1;31mKeyboardInterrupt\u001b[0m                         Traceback (most recent call last)",
            "\u001b[1;32m<ipython-input-296-a04140260039>\u001b[0m in \u001b[0;36m<module>\u001b[1;34m\u001b[0m\n\u001b[0;32m      3\u001b[0m     \u001b[1;32mif\u001b[0m \u001b[0mtype\u001b[0m\u001b[1;33m(\u001b[0m\u001b[0mi\u001b[0m\u001b[1;33m)\u001b[0m\u001b[1;33m==\u001b[0m\u001b[0mint\u001b[0m \u001b[1;33m:\u001b[0m\u001b[1;33m\u001b[0m\u001b[1;33m\u001b[0m\u001b[0m\n\u001b[0;32m      4\u001b[0m         \u001b[0mj\u001b[0m\u001b[1;33m=\u001b[0m\u001b[1;33m(\u001b[0m\u001b[1;36m1\u001b[0m\u001b[1;33m,\u001b[0m\u001b[1;36m2\u001b[0m\u001b[1;33m,\u001b[0m\u001b[1;36m3\u001b[0m\u001b[1;33m,\u001b[0m\u001b[1;36m4\u001b[0m\u001b[1;33m)\u001b[0m\u001b[1;33m\u001b[0m\u001b[1;33m\u001b[0m\u001b[0m\n\u001b[1;32m----> 5\u001b[1;33m         \u001b[0ml\u001b[0m\u001b[1;33m.\u001b[0m\u001b[0minsert\u001b[0m\u001b[1;33m(\u001b[0m\u001b[1;36m0\u001b[0m\u001b[1;33m,\u001b[0m\u001b[0mj\u001b[0m\u001b[1;33m)\u001b[0m\u001b[1;33m\u001b[0m\u001b[1;33m\u001b[0m\u001b[0m\n\u001b[0m\u001b[0;32m      6\u001b[0m \u001b[1;33m\u001b[0m\u001b[0m\n",
            "\u001b[1;31mKeyboardInterrupt\u001b[0m: "
          ]
        }
      ]
    },
    {
      "cell_type": "code",
      "metadata": {
        "id": "y9jVJTGPvPN3",
        "outputId": "7b042651-a1a5-49b1-8ad0-befd76f46985"
      },
      "source": [
        "l=[6,\"aa\"]\n",
        "j=(1,2,3,4)\n",
        "for i in l:\n",
        "    l[0]=j\n",
        "print(l)\n"
      ],
      "execution_count": null,
      "outputs": [
        {
          "name": "stdout",
          "output_type": "stream",
          "text": [
            "[(1, 2, 3, 4), 'aa']\n"
          ]
        }
      ]
    },
    {
      "cell_type": "code",
      "metadata": {
        "id": "MtuQrQSZvPN4"
      },
      "source": [
        "l"
      ],
      "execution_count": null,
      "outputs": []
    },
    {
      "cell_type": "code",
      "metadata": {
        "id": "wo3FCBtKvPN4",
        "outputId": "2b3fb589-1ead-4e4e-a828-3636ed85cc3d"
      },
      "source": [
        "j=(1,2,3,4)\n",
        "l.insert(0,j)"
      ],
      "execution_count": null,
      "outputs": [
        {
          "ename": "AttributeError",
          "evalue": "'NoneType' object has no attribute 'insert'",
          "output_type": "error",
          "traceback": [
            "\u001b[1;31m---------------------------------------------------------------------------\u001b[0m",
            "\u001b[1;31mAttributeError\u001b[0m                            Traceback (most recent call last)",
            "\u001b[1;32m<ipython-input-288-6d080ff404eb>\u001b[0m in \u001b[0;36m<module>\u001b[1;34m\u001b[0m\n\u001b[0;32m      1\u001b[0m \u001b[0mj\u001b[0m\u001b[1;33m=\u001b[0m\u001b[1;33m(\u001b[0m\u001b[1;36m1\u001b[0m\u001b[1;33m,\u001b[0m\u001b[1;36m2\u001b[0m\u001b[1;33m,\u001b[0m\u001b[1;36m3\u001b[0m\u001b[1;33m,\u001b[0m\u001b[1;36m4\u001b[0m\u001b[1;33m)\u001b[0m\u001b[1;33m\u001b[0m\u001b[1;33m\u001b[0m\u001b[0m\n\u001b[1;32m----> 2\u001b[1;33m \u001b[0ml\u001b[0m\u001b[1;33m.\u001b[0m\u001b[0minsert\u001b[0m\u001b[1;33m(\u001b[0m\u001b[1;36m0\u001b[0m\u001b[1;33m,\u001b[0m\u001b[0mj\u001b[0m\u001b[1;33m)\u001b[0m\u001b[1;33m\u001b[0m\u001b[1;33m\u001b[0m\u001b[0m\n\u001b[0m",
            "\u001b[1;31mAttributeError\u001b[0m: 'NoneType' object has no attribute 'insert'"
          ]
        }
      ]
    },
    {
      "cell_type": "code",
      "metadata": {
        "id": "I657mFQ2vPN4",
        "outputId": "46f12b95-d6a0-4b53-aa18-0fc34a5516b3"
      },
      "source": [
        "l"
      ],
      "execution_count": null,
      "outputs": [
        {
          "data": {
            "text/plain": [
              "[(1, 2, 3, 4), 7, 'sudh']"
            ]
          },
          "execution_count": 285,
          "metadata": {},
          "output_type": "execute_result"
        }
      ]
    },
    {
      "cell_type": "code",
      "metadata": {
        "id": "xj-ExmNTvPN4",
        "outputId": "52d4316b-f878-434b-c1ff-06038c7e4ff7"
      },
      "source": [
        "l = [3,4,5,6,7,8]\n",
        "l[3:1]"
      ],
      "execution_count": null,
      "outputs": [
        {
          "data": {
            "text/plain": [
              "[]"
            ]
          },
          "execution_count": 299,
          "metadata": {},
          "output_type": "execute_result"
        }
      ]
    },
    {
      "cell_type": "code",
      "metadata": {
        "id": "UW6q4GJyvPN5",
        "outputId": "4f555922-86e4-4daf-a227-a47fcae3d7f7"
      },
      "source": [
        "l[3:-1]"
      ],
      "execution_count": null,
      "outputs": [
        {
          "data": {
            "text/plain": [
              "[6, 7]"
            ]
          },
          "execution_count": 300,
          "metadata": {},
          "output_type": "execute_result"
        }
      ]
    },
    {
      "cell_type": "code",
      "metadata": {
        "id": "4CFoYc9MvPN5",
        "outputId": "24aed71b-4b45-430f-cde9-5a250399a84f"
      },
      "source": [
        "n=int(input())\n",
        "for i in range(0,n):\n",
        "    for j in range(n+1):\n",
        "        print(\".\", end=\"\")\n",
        "    print(\"\")\n",
        "for i in range(n-2,-1):\n",
        "     for j in range(n-1):\n",
        "        print(\".\",end=\"\")\n",
        "     print(\"\")"
      ],
      "execution_count": null,
      "outputs": [
        {
          "name": "stdout",
          "output_type": "stream",
          "text": [
            "8\n",
            ".........\n",
            ".........\n",
            ".........\n",
            ".........\n",
            ".........\n",
            ".........\n",
            ".........\n",
            ".........\n"
          ]
        }
      ]
    },
    {
      "cell_type": "code",
      "metadata": {
        "id": "GUutU3u5vPN5",
        "outputId": "48041e8e-6cf9-4257-ad97-531a3a104dde"
      },
      "source": [
        "l = [7,'sudh']\n",
        "j = (1,2,3,4)\n",
        "for i in range(len(l)):\n",
        "    if l[i]== int:\n",
        "        l[i]=j\n",
        "l\n"
      ],
      "execution_count": null,
      "outputs": [
        {
          "data": {
            "text/plain": [
              "[7, 'sudh']"
            ]
          },
          "execution_count": 304,
          "metadata": {},
          "output_type": "execute_result"
        }
      ]
    },
    {
      "cell_type": "code",
      "metadata": {
        "id": "BNiwcYEjvPN6",
        "outputId": "06aa4ee6-d97c-4b49-b472-b06c50cc16f1"
      },
      "source": [
        "l = [7,'sudh']\n",
        "j =(1,2,3,4)\n",
        "for i in l:\n",
        "    if type(i) == int:\n",
        "        l[l.index(i)]=j\n",
        "l\n"
      ],
      "execution_count": null,
      "outputs": [
        {
          "data": {
            "text/plain": [
              "[(1, 2, 3, 4), 'sudh']"
            ]
          },
          "execution_count": 305,
          "metadata": {},
          "output_type": "execute_result"
        }
      ]
    },
    {
      "cell_type": "code",
      "metadata": {
        "id": "ab7N3De7vPN6",
        "outputId": "47b19656-57b1-470f-f4b2-6c2b76ea73d3"
      },
      "source": [
        "l = [7,'sudh']\n",
        "j = (1,2,3,4)\n",
        "for i in range(len(l)):\n",
        "    if type(l[i])== int:\n",
        "        l[i]=j\n",
        "l"
      ],
      "execution_count": null,
      "outputs": [
        {
          "data": {
            "text/plain": [
              "[(1, 2, 3, 4), 'sudh']"
            ]
          },
          "execution_count": 307,
          "metadata": {},
          "output_type": "execute_result"
        }
      ]
    },
    {
      "cell_type": "code",
      "metadata": {
        "id": "rsQ4XJoCvPN6",
        "outputId": "7fb74f89-dfae-4051-c487-26a3505623c0"
      },
      "source": [
        "l=[[1,1,2,2,3,3],[2,4,2,2,5],[1,5,8,8,2]]\n",
        "a=[]\n",
        "for i in l:\n",
        "    for j in i:\n",
        "        if j not in a and i.count(i[j])>1:\n",
        "            a.append(j)\n",
        "            print(\"the count of\",j,\"is\",i.count(j))\n",
        "        else:\n",
        "            a.append(j)\n"
      ],
      "execution_count": null,
      "outputs": [
        {
          "name": "stdout",
          "output_type": "stream",
          "text": [
            "the count of 1 is 2\n",
            "the count of 2 is 2\n",
            "the count of 3 is 2\n"
          ]
        },
        {
          "ename": "IndexError",
          "evalue": "list index out of range",
          "output_type": "error",
          "traceback": [
            "\u001b[1;31m---------------------------------------------------------------------------\u001b[0m",
            "\u001b[1;31mIndexError\u001b[0m                                Traceback (most recent call last)",
            "\u001b[1;32m<ipython-input-308-3df344c846ae>\u001b[0m in \u001b[0;36m<module>\u001b[1;34m\u001b[0m\n\u001b[0;32m      3\u001b[0m \u001b[1;32mfor\u001b[0m \u001b[0mi\u001b[0m \u001b[1;32min\u001b[0m \u001b[0ml\u001b[0m\u001b[1;33m:\u001b[0m\u001b[1;33m\u001b[0m\u001b[1;33m\u001b[0m\u001b[0m\n\u001b[0;32m      4\u001b[0m     \u001b[1;32mfor\u001b[0m \u001b[0mj\u001b[0m \u001b[1;32min\u001b[0m \u001b[0mi\u001b[0m\u001b[1;33m:\u001b[0m\u001b[1;33m\u001b[0m\u001b[1;33m\u001b[0m\u001b[0m\n\u001b[1;32m----> 5\u001b[1;33m         \u001b[1;32mif\u001b[0m \u001b[0mj\u001b[0m \u001b[1;32mnot\u001b[0m \u001b[1;32min\u001b[0m \u001b[0ma\u001b[0m \u001b[1;32mand\u001b[0m \u001b[0mi\u001b[0m\u001b[1;33m.\u001b[0m\u001b[0mcount\u001b[0m\u001b[1;33m(\u001b[0m\u001b[0mi\u001b[0m\u001b[1;33m[\u001b[0m\u001b[0mj\u001b[0m\u001b[1;33m]\u001b[0m\u001b[1;33m)\u001b[0m\u001b[1;33m>\u001b[0m\u001b[1;36m1\u001b[0m\u001b[1;33m:\u001b[0m\u001b[1;33m\u001b[0m\u001b[1;33m\u001b[0m\u001b[0m\n\u001b[0m\u001b[0;32m      6\u001b[0m             \u001b[0ma\u001b[0m\u001b[1;33m.\u001b[0m\u001b[0mappend\u001b[0m\u001b[1;33m(\u001b[0m\u001b[0mj\u001b[0m\u001b[1;33m)\u001b[0m\u001b[1;33m\u001b[0m\u001b[1;33m\u001b[0m\u001b[0m\n\u001b[0;32m      7\u001b[0m             \u001b[0mprint\u001b[0m\u001b[1;33m(\u001b[0m\u001b[1;34m\"the count of\"\u001b[0m\u001b[1;33m,\u001b[0m\u001b[0mj\u001b[0m\u001b[1;33m,\u001b[0m\u001b[1;34m\"is\"\u001b[0m\u001b[1;33m,\u001b[0m\u001b[0mi\u001b[0m\u001b[1;33m.\u001b[0m\u001b[0mcount\u001b[0m\u001b[1;33m(\u001b[0m\u001b[0mj\u001b[0m\u001b[1;33m)\u001b[0m\u001b[1;33m)\u001b[0m\u001b[1;33m\u001b[0m\u001b[1;33m\u001b[0m\u001b[0m\n",
            "\u001b[1;31mIndexError\u001b[0m: list index out of range"
          ]
        }
      ]
    },
    {
      "cell_type": "code",
      "metadata": {
        "id": "lxKyzl5PvPN6",
        "outputId": "6aaa8efe-c12a-4f64-8c49-7580fef552b8"
      },
      "source": [
        "for i in l:\n",
        "    for j in i:\n",
        "        if i.count(j)>1:\n",
        "            print(j,\"is\",i.count(j),\"times\")\n"
      ],
      "execution_count": null,
      "outputs": [
        {
          "name": "stdout",
          "output_type": "stream",
          "text": [
            "1 is 2 times\n",
            "1 is 2 times\n",
            "2 is 2 times\n",
            "2 is 2 times\n",
            "3 is 2 times\n",
            "3 is 2 times\n",
            "2 is 3 times\n",
            "2 is 3 times\n",
            "2 is 3 times\n",
            "8 is 2 times\n",
            "8 is 2 times\n"
          ]
        }
      ]
    },
    {
      "cell_type": "code",
      "metadata": {
        "id": "Qw44sjbzvPN7",
        "outputId": "6ba8c16a-9f0a-4fb1-819c-ed5f87132ccc"
      },
      "source": [
        "l"
      ],
      "execution_count": null,
      "outputs": [
        {
          "data": {
            "text/plain": [
              "[[1, 1, 2, 2, 3, 3], [2, 4, 2, 2, 5], [1, 5, 8, 8, 2]]"
            ]
          },
          "execution_count": 310,
          "metadata": {},
          "output_type": "execute_result"
        }
      ]
    },
    {
      "cell_type": "code",
      "metadata": {
        "id": "cQypnuh5vPN8",
        "outputId": "3110a659-15d1-4a7f-898b-ba23c8774b0c"
      },
      "source": [
        "l "
      ],
      "execution_count": null,
      "outputs": [
        {
          "data": {
            "text/plain": [
              "[[1, 1, 2, 2, 3, 3], [2, 4, 2, 2, 5], [1, 5, 8, 8, 2]]"
            ]
          },
          "execution_count": 311,
          "metadata": {},
          "output_type": "execute_result"
        }
      ]
    },
    {
      "cell_type": "code",
      "metadata": {
        "id": "hLSVTmbavPN8",
        "outputId": "e6f13e13-27cf-4aa2-a977-efa6ad9f0cf0"
      },
      "source": [
        "l1 = [1,2,3,45 , \"sudh\" , \"kumar \" , \"fdsfsf\"]\n",
        "for i in range(len(l1)):\n",
        "    if type(l1[i]) == str:\n",
        "        print(l1[i] , i)"
      ],
      "execution_count": null,
      "outputs": [
        {
          "name": "stdout",
          "output_type": "stream",
          "text": [
            "sudh 4\n",
            "kumar  5\n",
            "fdsfsf 6\n"
          ]
        }
      ]
    },
    {
      "cell_type": "code",
      "metadata": {
        "id": "pFIjPwbHvPN8",
        "outputId": "54d01c77-20da-4fc0-9ae0-664106785756"
      },
      "source": [
        "l = [[1,1,2,2,3,3],[2,4,2,2,5],[1,5,8,8,2]]\n",
        "\n",
        "for i in l:\n",
        "    print(i)\n",
        "    for j in i:\n",
        "        print(j)"
      ],
      "execution_count": null,
      "outputs": [
        {
          "name": "stdout",
          "output_type": "stream",
          "text": [
            "[1, 1, 2, 2, 3, 3]\n",
            "1\n",
            "1\n",
            "2\n",
            "2\n",
            "3\n",
            "3\n",
            "[2, 4, 2, 2, 5]\n",
            "2\n",
            "4\n",
            "2\n",
            "2\n",
            "5\n",
            "[1, 5, 8, 8, 2]\n",
            "1\n",
            "5\n",
            "8\n",
            "8\n",
            "2\n"
          ]
        }
      ]
    },
    {
      "cell_type": "code",
      "metadata": {
        "id": "xev1dM4MvPN9",
        "outputId": "9b0d67fd-baef-4bc8-8912-5ef761775244"
      },
      "source": [
        "Discount = int(input ())\n",
        "if Discount == 50 :\n",
        "    print (\"you can buy all the items listed in row 1\")\n",
        "elif Discount == 30:\n",
        "    print (\"you can buy all the items from row 2\")\n",
        "elif Discount == 20:\n",
        "    print (\"send user to row 3\")\n",
        "elif Discount >10:\n",
        "    print (\"send user to row 4\")\n",
        "else :\n",
        "    print (\"there is no item\")\n"
      ],
      "execution_count": null,
      "outputs": [
        {
          "name": "stdout",
          "output_type": "stream",
          "text": [
            "456\n",
            "send user to row 4\n"
          ]
        }
      ]
    },
    {
      "cell_type": "code",
      "metadata": {
        "id": "GDJpA8mbvPN9",
        "outputId": "2abc5921-eab3-40ac-b15d-ee760e8fbe0e"
      },
      "source": [
        "n = int(input())\n",
        "for i in range(0,n):\n",
        "    for t in range(i+1):\n",
        "        print(\"!\", end = \"\")\n",
        "    print(\" \")\n",
        "for t in range(i-1):\n",
        "        print(\"!\", end = \"\")\n",
        "        print(\" \")\n"
      ],
      "execution_count": null,
      "outputs": [
        {
          "name": "stdout",
          "output_type": "stream",
          "text": [
            "6\n",
            "! \n",
            "!! \n",
            "!!! \n",
            "!!!! \n",
            "!!!!! \n",
            "!!!!!! \n",
            "! \n",
            "! \n",
            "! \n",
            "! \n"
          ]
        }
      ]
    },
    {
      "cell_type": "code",
      "metadata": {
        "id": "jBkdilKnvPN9"
      },
      "source": [
        ""
      ],
      "execution_count": null,
      "outputs": []
    }
  ]
}